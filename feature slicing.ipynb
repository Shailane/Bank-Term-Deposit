{
 "cells": [
  {
   "cell_type": "code",
   "execution_count": 1,
   "metadata": {},
   "outputs": [],
   "source": [
    "import pandas as pd\n",
    "import numpy as np\n",
    "import seaborn as sns\n",
    "from sklearn import metrics"
   ]
  },
  {
   "cell_type": "code",
   "execution_count": 2,
   "metadata": {},
   "outputs": [],
   "source": [
    "\n",
    "# machine learning\n",
    "from sklearn.linear_model import LogisticRegression\n",
    "from sklearn.svm import SVC, LinearSVC\n",
    "from sklearn.ensemble import RandomForestClassifier\n",
    "from sklearn.neighbors import KNeighborsClassifier\n",
    "from sklearn.naive_bayes import GaussianNB\n",
    "from sklearn.tree import DecisionTreeClassifier\n",
    "import statsmodels.api as sm\n",
    "\n",
    "# GridSearchCV to find optimal min_samples_split\n",
    "from sklearn.model_selection import KFold, cross_val_score\n",
    "from sklearn.model_selection import GridSearchCV\n",
    "from sklearn import preprocessing\n",
    "\n",
    "# Importing train-test-split \n",
    "from sklearn.model_selection import train_test_split\n",
    "\n",
    "# Evaluation metrics\n",
    "from sklearn.metrics import *\n",
    "\n",
    "# Ignoring warning\n",
    "import sys\n",
    "import warnings\n",
    "\n",
    "if not sys.warnoptions:\n",
    "    warnings.simplefilter(\"ignore\")"
   ]
  },
  {
   "cell_type": "code",
   "execution_count": 3,
   "metadata": {},
   "outputs": [],
   "source": [
    "data = pd.read_csv('bank.csv')"
   ]
  },
  {
   "cell_type": "code",
   "execution_count": 4,
   "metadata": {},
   "outputs": [
    {
     "data": {
      "text/html": [
       "<div>\n",
       "<style scoped>\n",
       "    .dataframe tbody tr th:only-of-type {\n",
       "        vertical-align: middle;\n",
       "    }\n",
       "\n",
       "    .dataframe tbody tr th {\n",
       "        vertical-align: top;\n",
       "    }\n",
       "\n",
       "    .dataframe thead th {\n",
       "        text-align: right;\n",
       "    }\n",
       "</style>\n",
       "<table border=\"1\" class=\"dataframe\">\n",
       "  <thead>\n",
       "    <tr style=\"text-align: right;\">\n",
       "      <th></th>\n",
       "      <th>age</th>\n",
       "      <th>job</th>\n",
       "      <th>marital</th>\n",
       "      <th>education</th>\n",
       "      <th>default</th>\n",
       "      <th>housing</th>\n",
       "      <th>loan</th>\n",
       "      <th>contact</th>\n",
       "      <th>month</th>\n",
       "      <th>day_of_week</th>\n",
       "      <th>campaign</th>\n",
       "      <th>pdays</th>\n",
       "      <th>previous</th>\n",
       "      <th>poutcome</th>\n",
       "      <th>emp.var.rate</th>\n",
       "      <th>cons.price.idx</th>\n",
       "      <th>cons.conf.idx</th>\n",
       "      <th>euribor3m</th>\n",
       "      <th>nr.employed</th>\n",
       "      <th>y</th>\n",
       "    </tr>\n",
       "  </thead>\n",
       "  <tbody>\n",
       "    <tr>\n",
       "      <th>0</th>\n",
       "      <td>56</td>\n",
       "      <td>housemaid</td>\n",
       "      <td>married</td>\n",
       "      <td>basic.4y</td>\n",
       "      <td>no</td>\n",
       "      <td>no</td>\n",
       "      <td>no</td>\n",
       "      <td>telephone</td>\n",
       "      <td>may</td>\n",
       "      <td>mon</td>\n",
       "      <td>1</td>\n",
       "      <td>999</td>\n",
       "      <td>0</td>\n",
       "      <td>nonexistent</td>\n",
       "      <td>1.1</td>\n",
       "      <td>93.994</td>\n",
       "      <td>-36.4</td>\n",
       "      <td>4.857</td>\n",
       "      <td>5191.0</td>\n",
       "      <td>no</td>\n",
       "    </tr>\n",
       "    <tr>\n",
       "      <th>1</th>\n",
       "      <td>57</td>\n",
       "      <td>services</td>\n",
       "      <td>married</td>\n",
       "      <td>high.school</td>\n",
       "      <td>unknown</td>\n",
       "      <td>no</td>\n",
       "      <td>no</td>\n",
       "      <td>telephone</td>\n",
       "      <td>may</td>\n",
       "      <td>mon</td>\n",
       "      <td>1</td>\n",
       "      <td>999</td>\n",
       "      <td>0</td>\n",
       "      <td>nonexistent</td>\n",
       "      <td>1.1</td>\n",
       "      <td>93.994</td>\n",
       "      <td>-36.4</td>\n",
       "      <td>4.857</td>\n",
       "      <td>5191.0</td>\n",
       "      <td>no</td>\n",
       "    </tr>\n",
       "    <tr>\n",
       "      <th>2</th>\n",
       "      <td>37</td>\n",
       "      <td>services</td>\n",
       "      <td>married</td>\n",
       "      <td>high.school</td>\n",
       "      <td>no</td>\n",
       "      <td>yes</td>\n",
       "      <td>no</td>\n",
       "      <td>telephone</td>\n",
       "      <td>may</td>\n",
       "      <td>mon</td>\n",
       "      <td>1</td>\n",
       "      <td>999</td>\n",
       "      <td>0</td>\n",
       "      <td>nonexistent</td>\n",
       "      <td>1.1</td>\n",
       "      <td>93.994</td>\n",
       "      <td>-36.4</td>\n",
       "      <td>4.857</td>\n",
       "      <td>5191.0</td>\n",
       "      <td>no</td>\n",
       "    </tr>\n",
       "    <tr>\n",
       "      <th>3</th>\n",
       "      <td>40</td>\n",
       "      <td>admin.</td>\n",
       "      <td>married</td>\n",
       "      <td>basic.6y</td>\n",
       "      <td>no</td>\n",
       "      <td>no</td>\n",
       "      <td>no</td>\n",
       "      <td>telephone</td>\n",
       "      <td>may</td>\n",
       "      <td>mon</td>\n",
       "      <td>1</td>\n",
       "      <td>999</td>\n",
       "      <td>0</td>\n",
       "      <td>nonexistent</td>\n",
       "      <td>1.1</td>\n",
       "      <td>93.994</td>\n",
       "      <td>-36.4</td>\n",
       "      <td>4.857</td>\n",
       "      <td>5191.0</td>\n",
       "      <td>no</td>\n",
       "    </tr>\n",
       "    <tr>\n",
       "      <th>4</th>\n",
       "      <td>56</td>\n",
       "      <td>services</td>\n",
       "      <td>married</td>\n",
       "      <td>high.school</td>\n",
       "      <td>no</td>\n",
       "      <td>no</td>\n",
       "      <td>yes</td>\n",
       "      <td>telephone</td>\n",
       "      <td>may</td>\n",
       "      <td>mon</td>\n",
       "      <td>1</td>\n",
       "      <td>999</td>\n",
       "      <td>0</td>\n",
       "      <td>nonexistent</td>\n",
       "      <td>1.1</td>\n",
       "      <td>93.994</td>\n",
       "      <td>-36.4</td>\n",
       "      <td>4.857</td>\n",
       "      <td>5191.0</td>\n",
       "      <td>no</td>\n",
       "    </tr>\n",
       "  </tbody>\n",
       "</table>\n",
       "</div>"
      ],
      "text/plain": [
       "   age        job  marital    education  default housing loan    contact  \\\n",
       "0   56  housemaid  married     basic.4y       no      no   no  telephone   \n",
       "1   57   services  married  high.school  unknown      no   no  telephone   \n",
       "2   37   services  married  high.school       no     yes   no  telephone   \n",
       "3   40     admin.  married     basic.6y       no      no   no  telephone   \n",
       "4   56   services  married  high.school       no      no  yes  telephone   \n",
       "\n",
       "  month day_of_week  campaign  pdays  previous     poutcome  emp.var.rate  \\\n",
       "0   may         mon         1    999         0  nonexistent           1.1   \n",
       "1   may         mon         1    999         0  nonexistent           1.1   \n",
       "2   may         mon         1    999         0  nonexistent           1.1   \n",
       "3   may         mon         1    999         0  nonexistent           1.1   \n",
       "4   may         mon         1    999         0  nonexistent           1.1   \n",
       "\n",
       "   cons.price.idx  cons.conf.idx  euribor3m  nr.employed   y  \n",
       "0          93.994          -36.4      4.857       5191.0  no  \n",
       "1          93.994          -36.4      4.857       5191.0  no  \n",
       "2          93.994          -36.4      4.857       5191.0  no  \n",
       "3          93.994          -36.4      4.857       5191.0  no  \n",
       "4          93.994          -36.4      4.857       5191.0  no  "
      ]
     },
     "execution_count": 4,
     "metadata": {},
     "output_type": "execute_result"
    }
   ],
   "source": [
    "data.head()"
   ]
  },
  {
   "cell_type": "code",
   "execution_count": 5,
   "metadata": {},
   "outputs": [
    {
     "data": {
      "text/plain": [
       "(41188, 20)"
      ]
     },
     "execution_count": 5,
     "metadata": {},
     "output_type": "execute_result"
    }
   ],
   "source": [
    "data.shape"
   ]
  },
  {
   "cell_type": "code",
   "execution_count": 6,
   "metadata": {},
   "outputs": [
    {
     "data": {
      "text/plain": [
       "Index(['age', 'job', 'marital', 'education', 'default', 'housing', 'loan',\n",
       "       'contact', 'month', 'day_of_week', 'campaign', 'pdays', 'previous',\n",
       "       'poutcome', 'emp.var.rate', 'cons.price.idx', 'cons.conf.idx',\n",
       "       'euribor3m', 'nr.employed', 'y'],\n",
       "      dtype='object')"
      ]
     },
     "execution_count": 6,
     "metadata": {},
     "output_type": "execute_result"
    }
   ],
   "source": [
    "data.columns"
   ]
  },
  {
   "cell_type": "code",
   "execution_count": 7,
   "metadata": {},
   "outputs": [],
   "source": [
    "import matplotlib.pyplot as plt\n",
    "%matplotlib inline"
   ]
  },
  {
   "cell_type": "code",
   "execution_count": 8,
   "metadata": {},
   "outputs": [
    {
     "data": {
      "text/plain": [
       "999    39673\n",
       "3        439\n",
       "6        412\n",
       "4        118\n",
       "9         64\n",
       "2         61\n",
       "7         60\n",
       "12        58\n",
       "10        52\n",
       "5         46\n",
       "13        36\n",
       "11        28\n",
       "1         26\n",
       "15        24\n",
       "14        20\n",
       "8         18\n",
       "0         15\n",
       "16        11\n",
       "17         8\n",
       "18         7\n",
       "19         3\n",
       "22         3\n",
       "21         2\n",
       "26         1\n",
       "20         1\n",
       "25         1\n",
       "27         1\n",
       "Name: pdays, dtype: int64"
      ]
     },
     "execution_count": 8,
     "metadata": {},
     "output_type": "execute_result"
    }
   ],
   "source": [
    "data['pdays'].value_counts()"
   ]
  },
  {
   "cell_type": "code",
   "execution_count": 9,
   "metadata": {},
   "outputs": [
    {
     "data": {
      "text/html": [
       "<div>\n",
       "<style scoped>\n",
       "    .dataframe tbody tr th:only-of-type {\n",
       "        vertical-align: middle;\n",
       "    }\n",
       "\n",
       "    .dataframe tbody tr th {\n",
       "        vertical-align: top;\n",
       "    }\n",
       "\n",
       "    .dataframe thead th {\n",
       "        text-align: right;\n",
       "    }\n",
       "</style>\n",
       "<table border=\"1\" class=\"dataframe\">\n",
       "  <thead>\n",
       "    <tr style=\"text-align: right;\">\n",
       "      <th></th>\n",
       "      <th>age</th>\n",
       "      <th>job</th>\n",
       "      <th>marital</th>\n",
       "      <th>education</th>\n",
       "      <th>default</th>\n",
       "      <th>housing</th>\n",
       "      <th>loan</th>\n",
       "      <th>contact</th>\n",
       "      <th>month</th>\n",
       "      <th>day_of_week</th>\n",
       "      <th>campaign</th>\n",
       "      <th>pdays</th>\n",
       "      <th>previous</th>\n",
       "      <th>poutcome</th>\n",
       "      <th>emp.var.rate</th>\n",
       "      <th>cons.price.idx</th>\n",
       "      <th>cons.conf.idx</th>\n",
       "      <th>euribor3m</th>\n",
       "      <th>nr.employed</th>\n",
       "      <th>y</th>\n",
       "    </tr>\n",
       "  </thead>\n",
       "  <tbody>\n",
       "    <tr>\n",
       "      <th>0</th>\n",
       "      <td>56</td>\n",
       "      <td>housemaid</td>\n",
       "      <td>married</td>\n",
       "      <td>basic.4y</td>\n",
       "      <td>no</td>\n",
       "      <td>no</td>\n",
       "      <td>no</td>\n",
       "      <td>telephone</td>\n",
       "      <td>may</td>\n",
       "      <td>mon</td>\n",
       "      <td>1</td>\n",
       "      <td>999</td>\n",
       "      <td>0</td>\n",
       "      <td>nonexistent</td>\n",
       "      <td>1.1</td>\n",
       "      <td>93.994</td>\n",
       "      <td>-36.4</td>\n",
       "      <td>4.857</td>\n",
       "      <td>5191.0</td>\n",
       "      <td>no</td>\n",
       "    </tr>\n",
       "    <tr>\n",
       "      <th>1</th>\n",
       "      <td>57</td>\n",
       "      <td>services</td>\n",
       "      <td>married</td>\n",
       "      <td>high.school</td>\n",
       "      <td>unknown</td>\n",
       "      <td>no</td>\n",
       "      <td>no</td>\n",
       "      <td>telephone</td>\n",
       "      <td>may</td>\n",
       "      <td>mon</td>\n",
       "      <td>1</td>\n",
       "      <td>999</td>\n",
       "      <td>0</td>\n",
       "      <td>nonexistent</td>\n",
       "      <td>1.1</td>\n",
       "      <td>93.994</td>\n",
       "      <td>-36.4</td>\n",
       "      <td>4.857</td>\n",
       "      <td>5191.0</td>\n",
       "      <td>no</td>\n",
       "    </tr>\n",
       "    <tr>\n",
       "      <th>2</th>\n",
       "      <td>37</td>\n",
       "      <td>services</td>\n",
       "      <td>married</td>\n",
       "      <td>high.school</td>\n",
       "      <td>no</td>\n",
       "      <td>yes</td>\n",
       "      <td>no</td>\n",
       "      <td>telephone</td>\n",
       "      <td>may</td>\n",
       "      <td>mon</td>\n",
       "      <td>1</td>\n",
       "      <td>999</td>\n",
       "      <td>0</td>\n",
       "      <td>nonexistent</td>\n",
       "      <td>1.1</td>\n",
       "      <td>93.994</td>\n",
       "      <td>-36.4</td>\n",
       "      <td>4.857</td>\n",
       "      <td>5191.0</td>\n",
       "      <td>no</td>\n",
       "    </tr>\n",
       "    <tr>\n",
       "      <th>3</th>\n",
       "      <td>40</td>\n",
       "      <td>admin.</td>\n",
       "      <td>married</td>\n",
       "      <td>basic.6y</td>\n",
       "      <td>no</td>\n",
       "      <td>no</td>\n",
       "      <td>no</td>\n",
       "      <td>telephone</td>\n",
       "      <td>may</td>\n",
       "      <td>mon</td>\n",
       "      <td>1</td>\n",
       "      <td>999</td>\n",
       "      <td>0</td>\n",
       "      <td>nonexistent</td>\n",
       "      <td>1.1</td>\n",
       "      <td>93.994</td>\n",
       "      <td>-36.4</td>\n",
       "      <td>4.857</td>\n",
       "      <td>5191.0</td>\n",
       "      <td>no</td>\n",
       "    </tr>\n",
       "    <tr>\n",
       "      <th>4</th>\n",
       "      <td>56</td>\n",
       "      <td>services</td>\n",
       "      <td>married</td>\n",
       "      <td>high.school</td>\n",
       "      <td>no</td>\n",
       "      <td>no</td>\n",
       "      <td>yes</td>\n",
       "      <td>telephone</td>\n",
       "      <td>may</td>\n",
       "      <td>mon</td>\n",
       "      <td>1</td>\n",
       "      <td>999</td>\n",
       "      <td>0</td>\n",
       "      <td>nonexistent</td>\n",
       "      <td>1.1</td>\n",
       "      <td>93.994</td>\n",
       "      <td>-36.4</td>\n",
       "      <td>4.857</td>\n",
       "      <td>5191.0</td>\n",
       "      <td>no</td>\n",
       "    </tr>\n",
       "  </tbody>\n",
       "</table>\n",
       "</div>"
      ],
      "text/plain": [
       "   age        job  marital    education  default housing loan    contact  \\\n",
       "0   56  housemaid  married     basic.4y       no      no   no  telephone   \n",
       "1   57   services  married  high.school  unknown      no   no  telephone   \n",
       "2   37   services  married  high.school       no     yes   no  telephone   \n",
       "3   40     admin.  married     basic.6y       no      no   no  telephone   \n",
       "4   56   services  married  high.school       no      no  yes  telephone   \n",
       "\n",
       "  month day_of_week  campaign  pdays  previous     poutcome  emp.var.rate  \\\n",
       "0   may         mon         1    999         0  nonexistent           1.1   \n",
       "1   may         mon         1    999         0  nonexistent           1.1   \n",
       "2   may         mon         1    999         0  nonexistent           1.1   \n",
       "3   may         mon         1    999         0  nonexistent           1.1   \n",
       "4   may         mon         1    999         0  nonexistent           1.1   \n",
       "\n",
       "   cons.price.idx  cons.conf.idx  euribor3m  nr.employed   y  \n",
       "0          93.994          -36.4      4.857       5191.0  no  \n",
       "1          93.994          -36.4      4.857       5191.0  no  \n",
       "2          93.994          -36.4      4.857       5191.0  no  \n",
       "3          93.994          -36.4      4.857       5191.0  no  \n",
       "4          93.994          -36.4      4.857       5191.0  no  "
      ]
     },
     "execution_count": 9,
     "metadata": {},
     "output_type": "execute_result"
    }
   ],
   "source": [
    "df_filtered = data[data['pdays'] == 999]\n",
    "df_filtered.head()"
   ]
  },
  {
   "cell_type": "code",
   "execution_count": 10,
   "metadata": {},
   "outputs": [
    {
     "data": {
      "text/plain": [
       "(39673, 20)"
      ]
     },
     "execution_count": 10,
     "metadata": {},
     "output_type": "execute_result"
    }
   ],
   "source": [
    "df_filtered.shape"
   ]
  },
  {
   "cell_type": "code",
   "execution_count": 11,
   "metadata": {},
   "outputs": [
    {
     "data": {
      "text/plain": [
       "nonexistent    35563\n",
       "failure         4110\n",
       "Name: poutcome, dtype: int64"
      ]
     },
     "execution_count": 11,
     "metadata": {},
     "output_type": "execute_result"
    }
   ],
   "source": [
    "df_filtered['poutcome'].value_counts()"
   ]
  },
  {
   "cell_type": "code",
   "execution_count": 12,
   "metadata": {},
   "outputs": [
    {
     "data": {
      "text/plain": [
       "0    35563\n",
       "1     3696\n",
       "2      349\n",
       "3       50\n",
       "4       12\n",
       "5        2\n",
       "6        1\n",
       "Name: previous, dtype: int64"
      ]
     },
     "execution_count": 12,
     "metadata": {},
     "output_type": "execute_result"
    }
   ],
   "source": [
    "df_filtered['previous'].value_counts()"
   ]
  },
  {
   "cell_type": "markdown",
   "metadata": {},
   "source": [
    "# success rate is zero for people who were not contacted frequently for another campaign."
   ]
  },
  {
   "cell_type": "code",
   "execution_count": 13,
   "metadata": {},
   "outputs": [
    {
     "data": {
      "text/plain": [
       "no     36000\n",
       "yes     3673\n",
       "Name: y, dtype: int64"
      ]
     },
     "execution_count": 13,
     "metadata": {},
     "output_type": "execute_result"
    }
   ],
   "source": [
    "df_filtered['y'].value_counts()"
   ]
  },
  {
   "cell_type": "markdown",
   "metadata": {},
   "source": [
    "# Very less peple subsribed for the campaign from people who were not contacted for a long time."
   ]
  },
  {
   "cell_type": "code",
   "execution_count": 14,
   "metadata": {},
   "outputs": [
    {
     "data": {
      "image/png": "[encoded data removed]",
      "text/plain": [
       "<Figure size 1152x1080 with 9 Axes>"
      ]
     },
     "metadata": {
      "needs_background": "light"
     },
     "output_type": "display_data"
    }
   ],
   "source": [
    "fig , axes = plt.subplots(3,3,figsize =(16,15))\n",
    "sns.boxplot(df_filtered['age'],ax = axes[0,0])\n",
    "sns.boxplot(df_filtered['campaign'],ax = axes[0,1])\n",
    "sns.boxplot(df_filtered['pdays'],ax = axes[0,2])\n",
    "sns.boxplot(df_filtered['previous'],ax = axes[1,0])\n",
    "sns.boxplot(df_filtered['emp.var.rate'],ax = axes[1,1])\n",
    "sns.boxplot(df_filtered['cons.price.idx'],ax = axes[1,2])\n",
    "sns.boxplot(df_filtered['cons.conf.idx'],ax = axes[2,0])\n",
    "sns.boxplot(df_filtered['euribor3m'],ax = axes[2,1])\n",
    "sns.boxplot(df_filtered['nr.employed'],ax = axes[2,2])\n",
    "plt.show()"
   ]
  },
  {
   "cell_type": "code",
   "execution_count": 15,
   "metadata": {},
   "outputs": [
    {
     "data": {
      "text/html": [
       "<div>\n",
       "<style scoped>\n",
       "    .dataframe tbody tr th:only-of-type {\n",
       "        vertical-align: middle;\n",
       "    }\n",
       "\n",
       "    .dataframe tbody tr th {\n",
       "        vertical-align: top;\n",
       "    }\n",
       "\n",
       "    .dataframe thead th {\n",
       "        text-align: right;\n",
       "    }\n",
       "</style>\n",
       "<table border=\"1\" class=\"dataframe\">\n",
       "  <thead>\n",
       "    <tr style=\"text-align: right;\">\n",
       "      <th>y</th>\n",
       "      <th>no</th>\n",
       "      <th>yes</th>\n",
       "    </tr>\n",
       "    <tr>\n",
       "      <th>default</th>\n",
       "      <th></th>\n",
       "      <th></th>\n",
       "    </tr>\n",
       "  </thead>\n",
       "  <tbody>\n",
       "    <tr>\n",
       "      <th>no</th>\n",
       "      <td>27877</td>\n",
       "      <td>3260</td>\n",
       "    </tr>\n",
       "    <tr>\n",
       "      <th>unknown</th>\n",
       "      <td>8120</td>\n",
       "      <td>413</td>\n",
       "    </tr>\n",
       "    <tr>\n",
       "      <th>yes</th>\n",
       "      <td>3</td>\n",
       "      <td>0</td>\n",
       "    </tr>\n",
       "  </tbody>\n",
       "</table>\n",
       "</div>"
      ],
      "text/plain": [
       "y           no   yes\n",
       "default             \n",
       "no       27877  3260\n",
       "unknown   8120   413\n",
       "yes          3     0"
      ]
     },
     "execution_count": 15,
     "metadata": {},
     "output_type": "execute_result"
    }
   ],
   "source": [
    "education = pd.crosstab(df_filtered['default'],df_filtered['y'])\n",
    "education"
   ]
  },
  {
   "cell_type": "code",
   "execution_count": 16,
   "metadata": {},
   "outputs": [
    {
     "data": {
      "text/html": [
       "<div>\n",
       "<style scoped>\n",
       "    .dataframe tbody tr th:only-of-type {\n",
       "        vertical-align: middle;\n",
       "    }\n",
       "\n",
       "    .dataframe tbody tr th {\n",
       "        vertical-align: top;\n",
       "    }\n",
       "\n",
       "    .dataframe thead th {\n",
       "        text-align: right;\n",
       "    }\n",
       "</style>\n",
       "<table border=\"1\" class=\"dataframe\">\n",
       "  <thead>\n",
       "    <tr style=\"text-align: right;\">\n",
       "      <th></th>\n",
       "      <th>age</th>\n",
       "      <th>job</th>\n",
       "      <th>marital</th>\n",
       "      <th>education</th>\n",
       "      <th>default</th>\n",
       "      <th>housing</th>\n",
       "      <th>loan</th>\n",
       "      <th>contact</th>\n",
       "      <th>month</th>\n",
       "      <th>day_of_week</th>\n",
       "      <th>campaign</th>\n",
       "      <th>pdays</th>\n",
       "      <th>previous</th>\n",
       "      <th>poutcome</th>\n",
       "      <th>emp.var.rate</th>\n",
       "      <th>cons.price.idx</th>\n",
       "      <th>cons.conf.idx</th>\n",
       "      <th>euribor3m</th>\n",
       "      <th>nr.employed</th>\n",
       "      <th>y</th>\n",
       "    </tr>\n",
       "  </thead>\n",
       "  <tbody>\n",
       "    <tr>\n",
       "      <th>21580</th>\n",
       "      <td>48</td>\n",
       "      <td>technician</td>\n",
       "      <td>married</td>\n",
       "      <td>professional.course</td>\n",
       "      <td>yes</td>\n",
       "      <td>no</td>\n",
       "      <td>no</td>\n",
       "      <td>cellular</td>\n",
       "      <td>aug</td>\n",
       "      <td>tue</td>\n",
       "      <td>1</td>\n",
       "      <td>999</td>\n",
       "      <td>0</td>\n",
       "      <td>nonexistent</td>\n",
       "      <td>1.4</td>\n",
       "      <td>93.444</td>\n",
       "      <td>-36.1</td>\n",
       "      <td>4.963</td>\n",
       "      <td>5228.1</td>\n",
       "      <td>no</td>\n",
       "    </tr>\n",
       "    <tr>\n",
       "      <th>21581</th>\n",
       "      <td>48</td>\n",
       "      <td>technician</td>\n",
       "      <td>married</td>\n",
       "      <td>professional.course</td>\n",
       "      <td>yes</td>\n",
       "      <td>yes</td>\n",
       "      <td>no</td>\n",
       "      <td>cellular</td>\n",
       "      <td>aug</td>\n",
       "      <td>tue</td>\n",
       "      <td>1</td>\n",
       "      <td>999</td>\n",
       "      <td>0</td>\n",
       "      <td>nonexistent</td>\n",
       "      <td>1.4</td>\n",
       "      <td>93.444</td>\n",
       "      <td>-36.1</td>\n",
       "      <td>4.963</td>\n",
       "      <td>5228.1</td>\n",
       "      <td>no</td>\n",
       "    </tr>\n",
       "    <tr>\n",
       "      <th>24866</th>\n",
       "      <td>31</td>\n",
       "      <td>unemployed</td>\n",
       "      <td>married</td>\n",
       "      <td>high.school</td>\n",
       "      <td>yes</td>\n",
       "      <td>no</td>\n",
       "      <td>no</td>\n",
       "      <td>cellular</td>\n",
       "      <td>nov</td>\n",
       "      <td>tue</td>\n",
       "      <td>2</td>\n",
       "      <td>999</td>\n",
       "      <td>1</td>\n",
       "      <td>failure</td>\n",
       "      <td>-0.1</td>\n",
       "      <td>93.200</td>\n",
       "      <td>-42.0</td>\n",
       "      <td>4.153</td>\n",
       "      <td>5195.8</td>\n",
       "      <td>no</td>\n",
       "    </tr>\n",
       "  </tbody>\n",
       "</table>\n",
       "</div>"
      ],
      "text/plain": [
       "       age         job  marital            education default housing loan  \\\n",
       "21580   48  technician  married  professional.course     yes      no   no   \n",
       "21581   48  technician  married  professional.course     yes     yes   no   \n",
       "24866   31  unemployed  married          high.school     yes      no   no   \n",
       "\n",
       "        contact month day_of_week  campaign  pdays  previous     poutcome  \\\n",
       "21580  cellular   aug         tue         1    999         0  nonexistent   \n",
       "21581  cellular   aug         tue         1    999         0  nonexistent   \n",
       "24866  cellular   nov         tue         2    999         1      failure   \n",
       "\n",
       "       emp.var.rate  cons.price.idx  cons.conf.idx  euribor3m  nr.employed   y  \n",
       "21580           1.4          93.444          -36.1      4.963       5228.1  no  \n",
       "21581           1.4          93.444          -36.1      4.963       5228.1  no  \n",
       "24866          -0.1          93.200          -42.0      4.153       5195.8  no  "
      ]
     },
     "execution_count": 16,
     "metadata": {},
     "output_type": "execute_result"
    }
   ],
   "source": [
    "remove = df_filtered[df_filtered['default']=='yes']\n",
    "remove"
   ]
  },
  {
   "cell_type": "code",
   "execution_count": 17,
   "metadata": {},
   "outputs": [
    {
     "data": {
      "text/plain": [
       "(39673, 20)"
      ]
     },
     "execution_count": 17,
     "metadata": {},
     "output_type": "execute_result"
    }
   ],
   "source": [
    "df_filtered.shape"
   ]
  },
  {
   "cell_type": "code",
   "execution_count": 18,
   "metadata": {},
   "outputs": [
    {
     "data": {
      "text/plain": [
       "39673"
      ]
     },
     "execution_count": 18,
     "metadata": {},
     "output_type": "execute_result"
    }
   ],
   "source": [
    "len(df_filtered)"
   ]
  },
  {
   "cell_type": "code",
   "execution_count": 19,
   "metadata": {},
   "outputs": [],
   "source": [
    "df_filtered.drop(remove.index,inplace=True)"
   ]
  },
  {
   "cell_type": "code",
   "execution_count": 20,
   "metadata": {},
   "outputs": [
    {
     "data": {
      "text/plain": [
       "(39670, 20)"
      ]
     },
     "execution_count": 20,
     "metadata": {},
     "output_type": "execute_result"
    }
   ],
   "source": [
    "df_filtered.shape"
   ]
  },
  {
   "cell_type": "code",
   "execution_count": 21,
   "metadata": {},
   "outputs": [
    {
     "data": {
      "text/plain": [
       "39670"
      ]
     },
     "execution_count": 21,
     "metadata": {},
     "output_type": "execute_result"
    }
   ],
   "source": [
    "len(df_filtered)"
   ]
  },
  {
   "cell_type": "code",
   "execution_count": 22,
   "metadata": {},
   "outputs": [],
   "source": [
    "dataset = df_filtered.copy()"
   ]
  },
  {
   "cell_type": "code",
   "execution_count": 23,
   "metadata": {},
   "outputs": [
    {
     "data": {
      "text/plain": [
       "Index(['age', 'job', 'marital', 'education', 'default', 'housing', 'loan',\n",
       "       'contact', 'month', 'day_of_week', 'campaign', 'pdays', 'previous',\n",
       "       'poutcome', 'emp.var.rate', 'cons.price.idx', 'cons.conf.idx',\n",
       "       'euribor3m', 'nr.employed', 'y'],\n",
       "      dtype='object')"
      ]
     },
     "execution_count": 23,
     "metadata": {},
     "output_type": "execute_result"
    }
   ],
   "source": [
    "dataset.columns"
   ]
  },
  {
   "cell_type": "code",
   "execution_count": 24,
   "metadata": {},
   "outputs": [
    {
     "data": {
      "text/plain": [
       "39670"
      ]
     },
     "execution_count": 24,
     "metadata": {},
     "output_type": "execute_result"
    }
   ],
   "source": [
    "len(dataset)"
   ]
  },
  {
   "cell_type": "code",
   "execution_count": 25,
   "metadata": {},
   "outputs": [
    {
     "name": "stdout",
     "output_type": "stream",
     "text": [
      "<class 'pandas.core.frame.DataFrame'>\n",
      "Int64Index: 39670 entries, 0 to 41187\n",
      "Data columns (total 20 columns):\n",
      "age               39670 non-null int64\n",
      "job               39670 non-null object\n",
      "marital           39670 non-null object\n",
      "education         39670 non-null object\n",
      "default           39670 non-null object\n",
      "housing           39670 non-null object\n",
      "loan              39670 non-null object\n",
      "contact           39670 non-null object\n",
      "month             39670 non-null object\n",
      "day_of_week       39670 non-null object\n",
      "campaign          39670 non-null int64\n",
      "pdays             39670 non-null int64\n",
      "previous          39670 non-null int64\n",
      "poutcome          39670 non-null object\n",
      "emp.var.rate      39670 non-null float64\n",
      "cons.price.idx    39670 non-null float64\n",
      "cons.conf.idx     39670 non-null float64\n",
      "euribor3m         39670 non-null float64\n",
      "nr.employed       39670 non-null float64\n",
      "y                 39670 non-null object\n",
      "dtypes: float64(5), int64(4), object(11)\n",
      "memory usage: 6.4+ MB\n"
     ]
    }
   ],
   "source": [
    "dataset.info()"
   ]
  },
  {
   "cell_type": "markdown",
   "metadata": {},
   "source": [
    "# Applying get dummies "
   ]
  },
  {
   "cell_type": "code",
   "execution_count": 26,
   "metadata": {},
   "outputs": [
    {
     "data": {
      "text/plain": [
       "(39670, 51)"
      ]
     },
     "execution_count": 26,
     "metadata": {},
     "output_type": "execute_result"
    }
   ],
   "source": [
    "data = pd.get_dummies(dataset,drop_first=True)\n",
    "data.shape"
   ]
  },
  {
   "cell_type": "code",
   "execution_count": 27,
   "metadata": {},
   "outputs": [
    {
     "data": {
      "text/html": [
       "<div>\n",
       "<style scoped>\n",
       "    .dataframe tbody tr th:only-of-type {\n",
       "        vertical-align: middle;\n",
       "    }\n",
       "\n",
       "    .dataframe tbody tr th {\n",
       "        vertical-align: top;\n",
       "    }\n",
       "\n",
       "    .dataframe thead th {\n",
       "        text-align: right;\n",
       "    }\n",
       "</style>\n",
       "<table border=\"1\" class=\"dataframe\">\n",
       "  <thead>\n",
       "    <tr style=\"text-align: right;\">\n",
       "      <th></th>\n",
       "      <th>age</th>\n",
       "      <th>campaign</th>\n",
       "      <th>pdays</th>\n",
       "      <th>previous</th>\n",
       "      <th>emp.var.rate</th>\n",
       "      <th>cons.price.idx</th>\n",
       "      <th>cons.conf.idx</th>\n",
       "      <th>euribor3m</th>\n",
       "      <th>nr.employed</th>\n",
       "      <th>job_blue-collar</th>\n",
       "      <th>...</th>\n",
       "      <th>month_may</th>\n",
       "      <th>month_nov</th>\n",
       "      <th>month_oct</th>\n",
       "      <th>month_sep</th>\n",
       "      <th>day_of_week_mon</th>\n",
       "      <th>day_of_week_thu</th>\n",
       "      <th>day_of_week_tue</th>\n",
       "      <th>day_of_week_wed</th>\n",
       "      <th>poutcome_nonexistent</th>\n",
       "      <th>y_yes</th>\n",
       "    </tr>\n",
       "  </thead>\n",
       "  <tbody>\n",
       "    <tr>\n",
       "      <th>0</th>\n",
       "      <td>56</td>\n",
       "      <td>1</td>\n",
       "      <td>999</td>\n",
       "      <td>0</td>\n",
       "      <td>1.1</td>\n",
       "      <td>93.994</td>\n",
       "      <td>-36.4</td>\n",
       "      <td>4.857</td>\n",
       "      <td>5191.0</td>\n",
       "      <td>0</td>\n",
       "      <td>...</td>\n",
       "      <td>1</td>\n",
       "      <td>0</td>\n",
       "      <td>0</td>\n",
       "      <td>0</td>\n",
       "      <td>1</td>\n",
       "      <td>0</td>\n",
       "      <td>0</td>\n",
       "      <td>0</td>\n",
       "      <td>1</td>\n",
       "      <td>0</td>\n",
       "    </tr>\n",
       "    <tr>\n",
       "      <th>1</th>\n",
       "      <td>57</td>\n",
       "      <td>1</td>\n",
       "      <td>999</td>\n",
       "      <td>0</td>\n",
       "      <td>1.1</td>\n",
       "      <td>93.994</td>\n",
       "      <td>-36.4</td>\n",
       "      <td>4.857</td>\n",
       "      <td>5191.0</td>\n",
       "      <td>0</td>\n",
       "      <td>...</td>\n",
       "      <td>1</td>\n",
       "      <td>0</td>\n",
       "      <td>0</td>\n",
       "      <td>0</td>\n",
       "      <td>1</td>\n",
       "      <td>0</td>\n",
       "      <td>0</td>\n",
       "      <td>0</td>\n",
       "      <td>1</td>\n",
       "      <td>0</td>\n",
       "    </tr>\n",
       "    <tr>\n",
       "      <th>2</th>\n",
       "      <td>37</td>\n",
       "      <td>1</td>\n",
       "      <td>999</td>\n",
       "      <td>0</td>\n",
       "      <td>1.1</td>\n",
       "      <td>93.994</td>\n",
       "      <td>-36.4</td>\n",
       "      <td>4.857</td>\n",
       "      <td>5191.0</td>\n",
       "      <td>0</td>\n",
       "      <td>...</td>\n",
       "      <td>1</td>\n",
       "      <td>0</td>\n",
       "      <td>0</td>\n",
       "      <td>0</td>\n",
       "      <td>1</td>\n",
       "      <td>0</td>\n",
       "      <td>0</td>\n",
       "      <td>0</td>\n",
       "      <td>1</td>\n",
       "      <td>0</td>\n",
       "    </tr>\n",
       "    <tr>\n",
       "      <th>3</th>\n",
       "      <td>40</td>\n",
       "      <td>1</td>\n",
       "      <td>999</td>\n",
       "      <td>0</td>\n",
       "      <td>1.1</td>\n",
       "      <td>93.994</td>\n",
       "      <td>-36.4</td>\n",
       "      <td>4.857</td>\n",
       "      <td>5191.0</td>\n",
       "      <td>0</td>\n",
       "      <td>...</td>\n",
       "      <td>1</td>\n",
       "      <td>0</td>\n",
       "      <td>0</td>\n",
       "      <td>0</td>\n",
       "      <td>1</td>\n",
       "      <td>0</td>\n",
       "      <td>0</td>\n",
       "      <td>0</td>\n",
       "      <td>1</td>\n",
       "      <td>0</td>\n",
       "    </tr>\n",
       "    <tr>\n",
       "      <th>4</th>\n",
       "      <td>56</td>\n",
       "      <td>1</td>\n",
       "      <td>999</td>\n",
       "      <td>0</td>\n",
       "      <td>1.1</td>\n",
       "      <td>93.994</td>\n",
       "      <td>-36.4</td>\n",
       "      <td>4.857</td>\n",
       "      <td>5191.0</td>\n",
       "      <td>0</td>\n",
       "      <td>...</td>\n",
       "      <td>1</td>\n",
       "      <td>0</td>\n",
       "      <td>0</td>\n",
       "      <td>0</td>\n",
       "      <td>1</td>\n",
       "      <td>0</td>\n",
       "      <td>0</td>\n",
       "      <td>0</td>\n",
       "      <td>1</td>\n",
       "      <td>0</td>\n",
       "    </tr>\n",
       "  </tbody>\n",
       "</table>\n",
       "<p>5 rows × 51 columns</p>\n",
       "</div>"
      ],
      "text/plain": [
       "   age  campaign  pdays  previous  emp.var.rate  cons.price.idx  \\\n",
       "0   56         1    999         0           1.1          93.994   \n",
       "1   57         1    999         0           1.1          93.994   \n",
       "2   37         1    999         0           1.1          93.994   \n",
       "3   40         1    999         0           1.1          93.994   \n",
       "4   56         1    999         0           1.1          93.994   \n",
       "\n",
       "   cons.conf.idx  euribor3m  nr.employed  job_blue-collar  ...    month_may  \\\n",
       "0          -36.4      4.857       5191.0                0  ...            1   \n",
       "1          -36.4      4.857       5191.0                0  ...            1   \n",
       "2          -36.4      4.857       5191.0                0  ...            1   \n",
       "3          -36.4      4.857       5191.0                0  ...            1   \n",
       "4          -36.4      4.857       5191.0                0  ...            1   \n",
       "\n",
       "   month_nov  month_oct  month_sep  day_of_week_mon  day_of_week_thu  \\\n",
       "0          0          0          0                1                0   \n",
       "1          0          0          0                1                0   \n",
       "2          0          0          0                1                0   \n",
       "3          0          0          0                1                0   \n",
       "4          0          0          0                1                0   \n",
       "\n",
       "   day_of_week_tue  day_of_week_wed  poutcome_nonexistent  y_yes  \n",
       "0                0                0                     1      0  \n",
       "1                0                0                     1      0  \n",
       "2                0                0                     1      0  \n",
       "3                0                0                     1      0  \n",
       "4                0                0                     1      0  \n",
       "\n",
       "[5 rows x 51 columns]"
      ]
     },
     "execution_count": 27,
     "metadata": {},
     "output_type": "execute_result"
    }
   ],
   "source": [
    "data.head()"
   ]
  },
  {
   "cell_type": "code",
   "execution_count": 29,
   "metadata": {},
   "outputs": [],
   "source": [
    "data.to_csv('rawdata.csv', index=False)"
   ]
  },
  {
   "cell_type": "code",
   "execution_count": null,
   "metadata": {},
   "outputs": [],
   "source": []
  },
  {
   "cell_type": "code",
   "execution_count": 28,
   "metadata": {},
   "outputs": [
    {
     "data": {
      "text/plain": [
       "0    35997\n",
       "1     3673\n",
       "Name: y_yes, dtype: int64"
      ]
     },
     "execution_count": 28,
     "metadata": {},
     "output_type": "execute_result"
    }
   ],
   "source": [
    "data['y_yes'].value_counts()"
   ]
  },
  {
   "cell_type": "markdown",
   "metadata": {},
   "source": [
    "# standardization"
   ]
  },
  {
   "cell_type": "code",
   "execution_count": 29,
   "metadata": {},
   "outputs": [],
   "source": [
    "\n",
    "df = data[['campaign', 'previous',\n",
    "        'emp.var.rate', 'cons.price.idx', 'cons.conf.idx',\n",
    "       'euribor3m', 'nr.employed']]\n",
    "transformed_data = (df-df.mean())/df.std()\n",
    "data_bank = data.drop(['campaign',  'previous',\n",
    "        'emp.var.rate', 'cons.price.idx', 'cons.conf.idx',\n",
    "       'euribor3m', 'nr.employed'],1)\n",
    "data_bank = pd.concat([data_bank,transformed_data],axis=1)"
   ]
  },
  {
   "cell_type": "code",
   "execution_count": 146,
   "metadata": {},
   "outputs": [
    {
     "data": {
      "text/html": [
       "<div>\n",
       "<style scoped>\n",
       "    .dataframe tbody tr th:only-of-type {\n",
       "        vertical-align: middle;\n",
       "    }\n",
       "\n",
       "    .dataframe tbody tr th {\n",
       "        vertical-align: top;\n",
       "    }\n",
       "\n",
       "    .dataframe thead th {\n",
       "        text-align: right;\n",
       "    }\n",
       "</style>\n",
       "<table border=\"1\" class=\"dataframe\">\n",
       "  <thead>\n",
       "    <tr style=\"text-align: right;\">\n",
       "      <th></th>\n",
       "      <th>age</th>\n",
       "      <th>pdays</th>\n",
       "      <th>job_blue-collar</th>\n",
       "      <th>job_entrepreneur</th>\n",
       "      <th>job_housemaid</th>\n",
       "      <th>job_management</th>\n",
       "      <th>job_retired</th>\n",
       "      <th>job_self-employed</th>\n",
       "      <th>job_services</th>\n",
       "      <th>job_student</th>\n",
       "      <th>...</th>\n",
       "      <th>day_of_week_wed</th>\n",
       "      <th>poutcome_nonexistent</th>\n",
       "      <th>y_yes</th>\n",
       "      <th>campaign</th>\n",
       "      <th>previous</th>\n",
       "      <th>emp.var.rate</th>\n",
       "      <th>cons.price.idx</th>\n",
       "      <th>cons.conf.idx</th>\n",
       "      <th>euribor3m</th>\n",
       "      <th>nr.employed</th>\n",
       "    </tr>\n",
       "  </thead>\n",
       "  <tbody>\n",
       "    <tr>\n",
       "      <th>0</th>\n",
       "      <td>56</td>\n",
       "      <td>999</td>\n",
       "      <td>0</td>\n",
       "      <td>0</td>\n",
       "      <td>1</td>\n",
       "      <td>0</td>\n",
       "      <td>0</td>\n",
       "      <td>0</td>\n",
       "      <td>0</td>\n",
       "      <td>0</td>\n",
       "      <td>...</td>\n",
       "      <td>0</td>\n",
       "      <td>1</td>\n",
       "      <td>0</td>\n",
       "      <td>-0.5684</td>\n",
       "      <td>-0.318201</td>\n",
       "      <td>0.610223</td>\n",
       "      <td>0.721158</td>\n",
       "      <td>0.927173</td>\n",
       "      <td>0.673929</td>\n",
       "      <td>0.276926</td>\n",
       "    </tr>\n",
       "    <tr>\n",
       "      <th>1</th>\n",
       "      <td>57</td>\n",
       "      <td>999</td>\n",
       "      <td>0</td>\n",
       "      <td>0</td>\n",
       "      <td>0</td>\n",
       "      <td>0</td>\n",
       "      <td>0</td>\n",
       "      <td>0</td>\n",
       "      <td>1</td>\n",
       "      <td>0</td>\n",
       "      <td>...</td>\n",
       "      <td>0</td>\n",
       "      <td>1</td>\n",
       "      <td>0</td>\n",
       "      <td>-0.5684</td>\n",
       "      <td>-0.318201</td>\n",
       "      <td>0.610223</td>\n",
       "      <td>0.721158</td>\n",
       "      <td>0.927173</td>\n",
       "      <td>0.673929</td>\n",
       "      <td>0.276926</td>\n",
       "    </tr>\n",
       "    <tr>\n",
       "      <th>2</th>\n",
       "      <td>37</td>\n",
       "      <td>999</td>\n",
       "      <td>0</td>\n",
       "      <td>0</td>\n",
       "      <td>0</td>\n",
       "      <td>0</td>\n",
       "      <td>0</td>\n",
       "      <td>0</td>\n",
       "      <td>1</td>\n",
       "      <td>0</td>\n",
       "      <td>...</td>\n",
       "      <td>0</td>\n",
       "      <td>1</td>\n",
       "      <td>0</td>\n",
       "      <td>-0.5684</td>\n",
       "      <td>-0.318201</td>\n",
       "      <td>0.610223</td>\n",
       "      <td>0.721158</td>\n",
       "      <td>0.927173</td>\n",
       "      <td>0.673929</td>\n",
       "      <td>0.276926</td>\n",
       "    </tr>\n",
       "    <tr>\n",
       "      <th>3</th>\n",
       "      <td>40</td>\n",
       "      <td>999</td>\n",
       "      <td>0</td>\n",
       "      <td>0</td>\n",
       "      <td>0</td>\n",
       "      <td>0</td>\n",
       "      <td>0</td>\n",
       "      <td>0</td>\n",
       "      <td>0</td>\n",
       "      <td>0</td>\n",
       "      <td>...</td>\n",
       "      <td>0</td>\n",
       "      <td>1</td>\n",
       "      <td>0</td>\n",
       "      <td>-0.5684</td>\n",
       "      <td>-0.318201</td>\n",
       "      <td>0.610223</td>\n",
       "      <td>0.721158</td>\n",
       "      <td>0.927173</td>\n",
       "      <td>0.673929</td>\n",
       "      <td>0.276926</td>\n",
       "    </tr>\n",
       "    <tr>\n",
       "      <th>4</th>\n",
       "      <td>56</td>\n",
       "      <td>999</td>\n",
       "      <td>0</td>\n",
       "      <td>0</td>\n",
       "      <td>0</td>\n",
       "      <td>0</td>\n",
       "      <td>0</td>\n",
       "      <td>0</td>\n",
       "      <td>1</td>\n",
       "      <td>0</td>\n",
       "      <td>...</td>\n",
       "      <td>0</td>\n",
       "      <td>1</td>\n",
       "      <td>0</td>\n",
       "      <td>-0.5684</td>\n",
       "      <td>-0.318201</td>\n",
       "      <td>0.610223</td>\n",
       "      <td>0.721158</td>\n",
       "      <td>0.927173</td>\n",
       "      <td>0.673929</td>\n",
       "      <td>0.276926</td>\n",
       "    </tr>\n",
       "  </tbody>\n",
       "</table>\n",
       "<p>5 rows × 51 columns</p>\n",
       "</div>"
      ],
      "text/plain": [
       "   age  pdays  job_blue-collar  job_entrepreneur  job_housemaid  \\\n",
       "0   56    999                0                 0              1   \n",
       "1   57    999                0                 0              0   \n",
       "2   37    999                0                 0              0   \n",
       "3   40    999                0                 0              0   \n",
       "4   56    999                0                 0              0   \n",
       "\n",
       "   job_management  job_retired  job_self-employed  job_services  job_student  \\\n",
       "0               0            0                  0             0            0   \n",
       "1               0            0                  0             1            0   \n",
       "2               0            0                  0             1            0   \n",
       "3               0            0                  0             0            0   \n",
       "4               0            0                  0             1            0   \n",
       "\n",
       "      ...       day_of_week_wed  poutcome_nonexistent  y_yes  campaign  \\\n",
       "0     ...                     0                     1      0   -0.5684   \n",
       "1     ...                     0                     1      0   -0.5684   \n",
       "2     ...                     0                     1      0   -0.5684   \n",
       "3     ...                     0                     1      0   -0.5684   \n",
       "4     ...                     0                     1      0   -0.5684   \n",
       "\n",
       "   previous  emp.var.rate  cons.price.idx  cons.conf.idx  euribor3m  \\\n",
       "0 -0.318201      0.610223        0.721158       0.927173   0.673929   \n",
       "1 -0.318201      0.610223        0.721158       0.927173   0.673929   \n",
       "2 -0.318201      0.610223        0.721158       0.927173   0.673929   \n",
       "3 -0.318201      0.610223        0.721158       0.927173   0.673929   \n",
       "4 -0.318201      0.610223        0.721158       0.927173   0.673929   \n",
       "\n",
       "   nr.employed  \n",
       "0     0.276926  \n",
       "1     0.276926  \n",
       "2     0.276926  \n",
       "3     0.276926  \n",
       "4     0.276926  \n",
       "\n",
       "[5 rows x 51 columns]"
      ]
     },
     "execution_count": 146,
     "metadata": {},
     "output_type": "execute_result"
    }
   ],
   "source": [
    "data_bank.head()"
   ]
  },
  {
   "cell_type": "code",
   "execution_count": 147,
   "metadata": {},
   "outputs": [],
   "source": [
    "x_data = data_bank.drop('y_yes',1)\n",
    "y_data = data_bank['y_yes']"
   ]
  },
  {
   "cell_type": "markdown",
   "metadata": {},
   "source": [
    "# Building base models"
   ]
  },
  {
   "cell_type": "code",
   "execution_count": 148,
   "metadata": {},
   "outputs": [],
   "source": [
    "x_train_1, x_test_1, y_train_1, y_test_1 = train_test_split(x_data,y_data, train_size=0.7,test_size=0.3,random_state=100,stratify=y_data)"
   ]
  },
  {
   "cell_type": "code",
   "execution_count": 149,
   "metadata": {},
   "outputs": [
    {
     "data": {
      "text/plain": [
       "(27769, 50)"
      ]
     },
     "execution_count": 149,
     "metadata": {},
     "output_type": "execute_result"
    }
   ],
   "source": [
    "x_train_1.shape"
   ]
  },
  {
   "cell_type": "code",
   "execution_count": 150,
   "metadata": {},
   "outputs": [
    {
     "data": {
      "text/plain": [
       "(11901, 50)"
      ]
     },
     "execution_count": 150,
     "metadata": {},
     "output_type": "execute_result"
    }
   ],
   "source": [
    "x_test_1.shape"
   ]
  },
  {
   "cell_type": "code",
   "execution_count": 151,
   "metadata": {},
   "outputs": [],
   "source": [
    "lo = LogisticRegression()\n",
    "m = lo.fit(x_train_1,y_train_1)\n",
    "p = lo.predict(x_test_1)"
   ]
  },
  {
   "cell_type": "code",
   "execution_count": 152,
   "metadata": {},
   "outputs": [
    {
     "name": "stdout",
     "output_type": "stream",
     "text": [
      "0.11138014527845036\n"
     ]
    }
   ],
   "source": [
    "print(f1_score(y_test_1,p))"
   ]
  },
  {
   "cell_type": "code",
   "execution_count": 153,
   "metadata": {},
   "outputs": [
    {
     "data": {
      "text/plain": [
       "array([[10731,    68],\n",
       "       [ 1033,    69]], dtype=int64)"
      ]
     },
     "execution_count": 153,
     "metadata": {},
     "output_type": "execute_result"
    }
   ],
   "source": [
    "cf = metrics.confusion_matrix(y_test_1,p)\n",
    "cf"
   ]
  },
  {
   "cell_type": "code",
   "execution_count": 154,
   "metadata": {},
   "outputs": [],
   "source": [
    "TN = cf[0,0] # true positive \n",
    "TP = cf[1,1] # true negatives\n",
    "FP = cf[0,1] # false positives\n",
    "FN = cf[1,0] # false negatives"
   ]
  },
  {
   "cell_type": "code",
   "execution_count": 155,
   "metadata": {},
   "outputs": [
    {
     "name": "stdout",
     "output_type": "stream",
     "text": [
      "0.9074867658179985\n"
     ]
    }
   ],
   "source": [
    "accuracy = (TP+TN)/(TP+TN+FP+FN)\n",
    "print(accuracy)"
   ]
  },
  {
   "cell_type": "code",
   "execution_count": 156,
   "metadata": {},
   "outputs": [
    {
     "data": {
      "text/plain": [
       "0.09251323418200152"
      ]
     },
     "execution_count": 156,
     "metadata": {},
     "output_type": "execute_result"
    }
   ],
   "source": [
    "Misclassification  = 1-accuracy\n",
    "Misclassification"
   ]
  },
  {
   "cell_type": "code",
   "execution_count": 157,
   "metadata": {},
   "outputs": [
    {
     "name": "stdout",
     "output_type": "stream",
     "text": [
      "              precision    recall  f1-score   support\n",
      "\n",
      "           0       0.91      0.99      0.95     10799\n",
      "           1       0.50      0.06      0.11      1102\n",
      "\n",
      "   micro avg       0.91      0.91      0.91     11901\n",
      "   macro avg       0.71      0.53      0.53     11901\n",
      "weighted avg       0.87      0.91      0.87     11901\n",
      "\n"
     ]
    }
   ],
   "source": [
    "print(classification_report(y_test_1,p))"
   ]
  },
  {
   "cell_type": "markdown",
   "metadata": {},
   "source": [
    "# Decision tree model"
   ]
  },
  {
   "cell_type": "code",
   "execution_count": 158,
   "metadata": {},
   "outputs": [],
   "source": [
    "tree = DecisionTreeClassifier()\n",
    "model_tre = tree.fit(x_train_1,y_train_1)\n",
    "pred_tree  = tree.predict(x_test_1)"
   ]
  },
  {
   "cell_type": "code",
   "execution_count": 159,
   "metadata": {},
   "outputs": [
    {
     "name": "stdout",
     "output_type": "stream",
     "text": [
      "0.8492563650113436\n"
     ]
    }
   ],
   "source": [
    "print(accuracy_score(y_test_1,pred_tree))"
   ]
  },
  {
   "cell_type": "code",
   "execution_count": 160,
   "metadata": {},
   "outputs": [
    {
     "name": "stdout",
     "output_type": "stream",
     "text": [
      "0.23659574468085107\n"
     ]
    }
   ],
   "source": [
    "print(f1_score(y_test_1,pred_tree))"
   ]
  },
  {
   "cell_type": "code",
   "execution_count": 161,
   "metadata": {},
   "outputs": [
    {
     "data": {
      "text/plain": [
       "array([[9829,  970],\n",
       "       [ 824,  278]], dtype=int64)"
      ]
     },
     "execution_count": 161,
     "metadata": {},
     "output_type": "execute_result"
    }
   ],
   "source": [
    "ct = metrics.confusion_matrix(y_test_1,pred_tree)\n",
    "ct"
   ]
  },
  {
   "cell_type": "code",
   "execution_count": 162,
   "metadata": {},
   "outputs": [],
   "source": [
    "TN_t = ct[0,0] # true positive \n",
    "TP_t = ct[1,1] # true negatives\n",
    "FP_t = ct[0,1] # false positives\n",
    "FN_t = ct[1,0] # false negatives"
   ]
  },
  {
   "cell_type": "code",
   "execution_count": 163,
   "metadata": {},
   "outputs": [
    {
     "name": "stdout",
     "output_type": "stream",
     "text": [
      "0.8492563650113436\n"
     ]
    }
   ],
   "source": [
    "accuracy_t = (TP_t+TN_t)/(TP_t+TN_t+FP_t+FN_t)\n",
    "print(accuracy_t)"
   ]
  },
  {
   "cell_type": "code",
   "execution_count": 164,
   "metadata": {},
   "outputs": [
    {
     "data": {
      "text/plain": [
       "0.1507436349886564"
      ]
     },
     "execution_count": 164,
     "metadata": {},
     "output_type": "execute_result"
    }
   ],
   "source": [
    "Misclassification  = 1-accuracy_t\n",
    "Misclassification"
   ]
  },
  {
   "cell_type": "code",
   "execution_count": 165,
   "metadata": {},
   "outputs": [
    {
     "name": "stdout",
     "output_type": "stream",
     "text": [
      "              precision    recall  f1-score   support\n",
      "\n",
      "           0       0.92      0.91      0.92     10799\n",
      "           1       0.22      0.25      0.24      1102\n",
      "\n",
      "   micro avg       0.85      0.85      0.85     11901\n",
      "   macro avg       0.57      0.58      0.58     11901\n",
      "weighted avg       0.86      0.85      0.85     11901\n",
      "\n"
     ]
    }
   ],
   "source": [
    "print(classification_report(y_test_1,pred_tree))"
   ]
  },
  {
   "cell_type": "markdown",
   "metadata": {},
   "source": [
    "# Random forest model"
   ]
  },
  {
   "cell_type": "code",
   "execution_count": 166,
   "metadata": {},
   "outputs": [],
   "source": [
    "random = RandomForestClassifier()\n",
    "model_rf = random.fit(x_train_1,y_train_1)\n",
    "pred_rf  = random.predict(x_test_1)"
   ]
  },
  {
   "cell_type": "code",
   "execution_count": 167,
   "metadata": {},
   "outputs": [
    {
     "name": "stdout",
     "output_type": "stream",
     "text": [
      "0.20990099009900992\n"
     ]
    }
   ],
   "source": [
    "print(f1_score(y_test_1,pred_rf))"
   ]
  },
  {
   "cell_type": "code",
   "execution_count": 168,
   "metadata": {},
   "outputs": [
    {
     "data": {
      "text/plain": [
       "array([[10545,   254],\n",
       "       [  943,   159]], dtype=int64)"
      ]
     },
     "execution_count": 168,
     "metadata": {},
     "output_type": "execute_result"
    }
   ],
   "source": [
    "cr = metrics.confusion_matrix(y_test_1,pred_rf)\n",
    "cr"
   ]
  },
  {
   "cell_type": "code",
   "execution_count": 169,
   "metadata": {},
   "outputs": [],
   "source": [
    "TN_r = cr[0,0] # true positive \n",
    "TP_r = cr[1,1] # true negatives\n",
    "FP_r = cr[0,1] # false positives\n",
    "FN_r = cr[1,0] # false negatives"
   ]
  },
  {
   "cell_type": "code",
   "execution_count": 170,
   "metadata": {},
   "outputs": [
    {
     "name": "stdout",
     "output_type": "stream",
     "text": [
      "0.8994202167885051\n"
     ]
    }
   ],
   "source": [
    "accuracy_rf = (TP_r+TN_r)/(TP_r+TN_r+FP_r+FN_r)\n",
    "print(accuracy_rf)"
   ]
  },
  {
   "cell_type": "code",
   "execution_count": 171,
   "metadata": {},
   "outputs": [
    {
     "data": {
      "text/plain": [
       "0.10057978321149486"
      ]
     },
     "execution_count": 171,
     "metadata": {},
     "output_type": "execute_result"
    }
   ],
   "source": [
    "Misclassification_r  = 1-accuracy_rf\n",
    "Misclassification_r"
   ]
  },
  {
   "cell_type": "code",
   "execution_count": 172,
   "metadata": {},
   "outputs": [
    {
     "name": "stdout",
     "output_type": "stream",
     "text": [
      "              precision    recall  f1-score   support\n",
      "\n",
      "           0       0.92      0.98      0.95     10799\n",
      "           1       0.38      0.14      0.21      1102\n",
      "\n",
      "   micro avg       0.90      0.90      0.90     11901\n",
      "   macro avg       0.65      0.56      0.58     11901\n",
      "weighted avg       0.87      0.90      0.88     11901\n",
      "\n"
     ]
    }
   ],
   "source": [
    "print(classification_report(y_test_1,pred_rf))"
   ]
  },
  {
   "cell_type": "code",
   "execution_count": 173,
   "metadata": {},
   "outputs": [],
   "source": [
    "import statsmodels.api as sm\n",
    "from sklearn import preprocessing\n",
    "from sklearn.feature_selection import RFE"
   ]
  },
  {
   "cell_type": "code",
   "execution_count": 174,
   "metadata": {},
   "outputs": [
    {
     "data": {
      "text/html": [
       "<table class=\"simpletable\">\n",
       "<caption>Generalized Linear Model Regression Results</caption>\n",
       "<tr>\n",
       "  <th>Dep. Variable:</th>        <td>y_yes</td>      <th>  No. Observations:  </th>  <td> 27769</td>  \n",
       "</tr>\n",
       "<tr>\n",
       "  <th>Model:</th>                 <td>GLM</td>       <th>  Df Residuals:      </th>  <td> 27720</td>  \n",
       "</tr>\n",
       "<tr>\n",
       "  <th>Model Family:</th>       <td>Binomial</td>     <th>  Df Model:          </th>  <td>    48</td>  \n",
       "</tr>\n",
       "<tr>\n",
       "  <th>Link Function:</th>        <td>logit</td>      <th>  Scale:             </th> <td>  1.0000</td> \n",
       "</tr>\n",
       "<tr>\n",
       "  <th>Method:</th>               <td>IRLS</td>       <th>  Log-Likelihood:    </th> <td> -7269.3</td> \n",
       "</tr>\n",
       "<tr>\n",
       "  <th>Date:</th>           <td>Tue, 16 Apr 2019</td> <th>  Deviance:          </th> <td>  14539.</td> \n",
       "</tr>\n",
       "<tr>\n",
       "  <th>Time:</th>               <td>15:48:33</td>     <th>  Pearson chi2:      </th> <td>2.82e+04</td> \n",
       "</tr>\n",
       "<tr>\n",
       "  <th>No. Iterations:</th>         <td>6</td>        <th>  Covariance Type:   </th> <td>nonrobust</td>\n",
       "</tr>\n",
       "</table>\n",
       "<table class=\"simpletable\">\n",
       "<tr>\n",
       "                <td></td>                   <th>coef</th>     <th>std err</th>      <th>z</th>      <th>P>|z|</th>  <th>[0.025</th>    <th>0.975]</th>  \n",
       "</tr>\n",
       "<tr>\n",
       "  <th>age</th>                           <td>   -0.0022</td> <td>    0.003</td> <td>   -0.826</td> <td> 0.409</td> <td>   -0.008</td> <td>    0.003</td>\n",
       "</tr>\n",
       "<tr>\n",
       "  <th>pdays</th>                         <td>   -0.0023</td> <td>    0.000</td> <td>   -9.310</td> <td> 0.000</td> <td>   -0.003</td> <td>   -0.002</td>\n",
       "</tr>\n",
       "<tr>\n",
       "  <th>job_blue-collar</th>               <td>   -0.1671</td> <td>    0.086</td> <td>   -1.944</td> <td> 0.052</td> <td>   -0.336</td> <td>    0.001</td>\n",
       "</tr>\n",
       "<tr>\n",
       "  <th>job_entrepreneur</th>              <td>   -0.0600</td> <td>    0.133</td> <td>   -0.453</td> <td> 0.651</td> <td>   -0.320</td> <td>    0.200</td>\n",
       "</tr>\n",
       "<tr>\n",
       "  <th>job_housemaid</th>                 <td>   -0.1302</td> <td>    0.164</td> <td>   -0.795</td> <td> 0.426</td> <td>   -0.451</td> <td>    0.191</td>\n",
       "</tr>\n",
       "<tr>\n",
       "  <th>job_management</th>                <td>   -0.1405</td> <td>    0.097</td> <td>   -1.450</td> <td> 0.147</td> <td>   -0.330</td> <td>    0.049</td>\n",
       "</tr>\n",
       "<tr>\n",
       "  <th>job_retired</th>                   <td>    0.3322</td> <td>    0.120</td> <td>    2.763</td> <td> 0.006</td> <td>    0.097</td> <td>    0.568</td>\n",
       "</tr>\n",
       "<tr>\n",
       "  <th>job_self-employed</th>             <td>    0.0086</td> <td>    0.123</td> <td>    0.071</td> <td> 0.944</td> <td>   -0.231</td> <td>    0.249</td>\n",
       "</tr>\n",
       "<tr>\n",
       "  <th>job_services</th>                  <td>   -0.2607</td> <td>    0.097</td> <td>   -2.699</td> <td> 0.007</td> <td>   -0.450</td> <td>   -0.071</td>\n",
       "</tr>\n",
       "<tr>\n",
       "  <th>job_student</th>                   <td>    0.1498</td> <td>    0.131</td> <td>    1.140</td> <td> 0.254</td> <td>   -0.108</td> <td>    0.407</td>\n",
       "</tr>\n",
       "<tr>\n",
       "  <th>job_technician</th>                <td>   -0.0433</td> <td>    0.078</td> <td>   -0.555</td> <td> 0.579</td> <td>   -0.196</td> <td>    0.110</td>\n",
       "</tr>\n",
       "<tr>\n",
       "  <th>job_unemployed</th>                <td>   -0.0700</td> <td>    0.147</td> <td>   -0.477</td> <td> 0.634</td> <td>   -0.358</td> <td>    0.218</td>\n",
       "</tr>\n",
       "<tr>\n",
       "  <th>job_unknown</th>                   <td>    0.0236</td> <td>    0.280</td> <td>    0.084</td> <td> 0.933</td> <td>   -0.526</td> <td>    0.573</td>\n",
       "</tr>\n",
       "<tr>\n",
       "  <th>marital_married</th>               <td>    0.1273</td> <td>    0.078</td> <td>    1.629</td> <td> 0.103</td> <td>   -0.026</td> <td>    0.281</td>\n",
       "</tr>\n",
       "<tr>\n",
       "  <th>marital_single</th>                <td>    0.2162</td> <td>    0.088</td> <td>    2.458</td> <td> 0.014</td> <td>    0.044</td> <td>    0.389</td>\n",
       "</tr>\n",
       "<tr>\n",
       "  <th>marital_unknown</th>               <td>    0.3638</td> <td>    0.520</td> <td>    0.699</td> <td> 0.484</td> <td>   -0.656</td> <td>    1.383</td>\n",
       "</tr>\n",
       "<tr>\n",
       "  <th>education_basic.6y</th>            <td>    0.0889</td> <td>    0.130</td> <td>    0.685</td> <td> 0.493</td> <td>   -0.165</td> <td>    0.343</td>\n",
       "</tr>\n",
       "<tr>\n",
       "  <th>education_basic.9y</th>            <td>   -0.0373</td> <td>    0.102</td> <td>   -0.364</td> <td> 0.715</td> <td>   -0.238</td> <td>    0.163</td>\n",
       "</tr>\n",
       "<tr>\n",
       "  <th>education_high.school</th>         <td>    0.0189</td> <td>    0.101</td> <td>    0.187</td> <td> 0.852</td> <td>   -0.179</td> <td>    0.217</td>\n",
       "</tr>\n",
       "<tr>\n",
       "  <th>education_illiterate</th>          <td>    0.9679</td> <td>    0.727</td> <td>    1.332</td> <td> 0.183</td> <td>   -0.456</td> <td>    2.392</td>\n",
       "</tr>\n",
       "<tr>\n",
       "  <th>education_professional.course</th> <td>    0.0587</td> <td>    0.111</td> <td>    0.529</td> <td> 0.597</td> <td>   -0.159</td> <td>    0.276</td>\n",
       "</tr>\n",
       "<tr>\n",
       "  <th>education_university.degree</th>   <td>    0.0780</td> <td>    0.101</td> <td>    0.773</td> <td> 0.439</td> <td>   -0.120</td> <td>    0.276</td>\n",
       "</tr>\n",
       "<tr>\n",
       "  <th>education_unknown</th>             <td>   -0.0064</td> <td>    0.133</td> <td>   -0.048</td> <td> 0.961</td> <td>   -0.268</td> <td>    0.255</td>\n",
       "</tr>\n",
       "<tr>\n",
       "  <th>default_unknown</th>               <td>   -0.1879</td> <td>    0.070</td> <td>   -2.676</td> <td> 0.007</td> <td>   -0.326</td> <td>   -0.050</td>\n",
       "</tr>\n",
       "<tr>\n",
       "  <th>housing_unknown</th>               <td>   -0.1738</td> <td>    0.081</td> <td>   -2.146</td> <td> 0.032</td> <td>   -0.333</td> <td>   -0.015</td>\n",
       "</tr>\n",
       "<tr>\n",
       "  <th>housing_yes</th>                   <td>   -0.0606</td> <td>    0.045</td> <td>   -1.337</td> <td> 0.181</td> <td>   -0.150</td> <td>    0.028</td>\n",
       "</tr>\n",
       "<tr>\n",
       "  <th>loan_unknown</th>                  <td>   -0.1738</td> <td>    0.081</td> <td>   -2.146</td> <td> 0.032</td> <td>   -0.333</td> <td>   -0.015</td>\n",
       "</tr>\n",
       "<tr>\n",
       "  <th>loan_yes</th>                      <td>   -0.1336</td> <td>    0.065</td> <td>   -2.067</td> <td> 0.039</td> <td>   -0.260</td> <td>   -0.007</td>\n",
       "</tr>\n",
       "<tr>\n",
       "  <th>contact_telephone</th>             <td>   -0.7452</td> <td>    0.087</td> <td>   -8.612</td> <td> 0.000</td> <td>   -0.915</td> <td>   -0.576</td>\n",
       "</tr>\n",
       "<tr>\n",
       "  <th>month_aug</th>                     <td>    0.4723</td> <td>    0.143</td> <td>    3.294</td> <td> 0.001</td> <td>    0.191</td> <td>    0.753</td>\n",
       "</tr>\n",
       "<tr>\n",
       "  <th>month_dec</th>                     <td>    0.5675</td> <td>    0.251</td> <td>    2.257</td> <td> 0.024</td> <td>    0.075</td> <td>    1.060</td>\n",
       "</tr>\n",
       "<tr>\n",
       "  <th>month_jul</th>                     <td>    0.0441</td> <td>    0.104</td> <td>    0.425</td> <td> 0.671</td> <td>   -0.159</td> <td>    0.248</td>\n",
       "</tr>\n",
       "<tr>\n",
       "  <th>month_jun</th>                     <td>   -0.6539</td> <td>    0.149</td> <td>   -4.398</td> <td> 0.000</td> <td>   -0.945</td> <td>   -0.362</td>\n",
       "</tr>\n",
       "<tr>\n",
       "  <th>month_mar</th>                     <td>    1.5297</td> <td>    0.167</td> <td>    9.153</td> <td> 0.000</td> <td>    1.202</td> <td>    1.857</td>\n",
       "</tr>\n",
       "<tr>\n",
       "  <th>month_may</th>                     <td>   -0.4834</td> <td>    0.091</td> <td>   -5.284</td> <td> 0.000</td> <td>   -0.663</td> <td>   -0.304</td>\n",
       "</tr>\n",
       "<tr>\n",
       "  <th>month_nov</th>                     <td>   -0.4427</td> <td>    0.133</td> <td>   -3.340</td> <td> 0.001</td> <td>   -0.703</td> <td>   -0.183</td>\n",
       "</tr>\n",
       "<tr>\n",
       "  <th>month_oct</th>                     <td>    0.1571</td> <td>    0.176</td> <td>    0.892</td> <td> 0.373</td> <td>   -0.188</td> <td>    0.502</td>\n",
       "</tr>\n",
       "<tr>\n",
       "  <th>month_sep</th>                     <td>    0.2185</td> <td>    0.213</td> <td>    1.027</td> <td> 0.305</td> <td>   -0.199</td> <td>    0.636</td>\n",
       "</tr>\n",
       "<tr>\n",
       "  <th>day_of_week_mon</th>               <td>   -0.1850</td> <td>    0.073</td> <td>   -2.524</td> <td> 0.012</td> <td>   -0.329</td> <td>   -0.041</td>\n",
       "</tr>\n",
       "<tr>\n",
       "  <th>day_of_week_thu</th>               <td>    0.0971</td> <td>    0.070</td> <td>    1.389</td> <td> 0.165</td> <td>   -0.040</td> <td>    0.234</td>\n",
       "</tr>\n",
       "<tr>\n",
       "  <th>day_of_week_tue</th>               <td>    0.0522</td> <td>    0.073</td> <td>    0.718</td> <td> 0.473</td> <td>   -0.090</td> <td>    0.195</td>\n",
       "</tr>\n",
       "<tr>\n",
       "  <th>day_of_week_wed</th>               <td>    0.1559</td> <td>    0.072</td> <td>    2.172</td> <td> 0.030</td> <td>    0.015</td> <td>    0.297</td>\n",
       "</tr>\n",
       "<tr>\n",
       "  <th>poutcome_nonexistent</th>          <td>    0.2398</td> <td>    0.162</td> <td>    1.479</td> <td> 0.139</td> <td>   -0.078</td> <td>    0.557</td>\n",
       "</tr>\n",
       "<tr>\n",
       "  <th>campaign</th>                      <td>   -0.1035</td> <td>    0.031</td> <td>   -3.345</td> <td> 0.001</td> <td>   -0.164</td> <td>   -0.043</td>\n",
       "</tr>\n",
       "<tr>\n",
       "  <th>previous</th>                      <td>   -0.0950</td> <td>    0.046</td> <td>   -2.065</td> <td> 0.039</td> <td>   -0.185</td> <td>   -0.005</td>\n",
       "</tr>\n",
       "<tr>\n",
       "  <th>emp.var.rate</th>                  <td>   -2.1694</td> <td>    0.258</td> <td>   -8.418</td> <td> 0.000</td> <td>   -2.675</td> <td>   -1.664</td>\n",
       "</tr>\n",
       "<tr>\n",
       "  <th>cons.price.idx</th>                <td>    1.1672</td> <td>    0.169</td> <td>    6.924</td> <td> 0.000</td> <td>    0.837</td> <td>    1.498</td>\n",
       "</tr>\n",
       "<tr>\n",
       "  <th>cons.conf.idx</th>                 <td>    0.1428</td> <td>    0.042</td> <td>    3.396</td> <td> 0.001</td> <td>    0.060</td> <td>    0.225</td>\n",
       "</tr>\n",
       "<tr>\n",
       "  <th>euribor3m</th>                     <td>    0.1845</td> <td>    0.246</td> <td>    0.749</td> <td> 0.454</td> <td>   -0.298</td> <td>    0.667</td>\n",
       "</tr>\n",
       "<tr>\n",
       "  <th>nr.employed</th>                   <td>    0.5001</td> <td>    0.243</td> <td>    2.054</td> <td> 0.040</td> <td>    0.023</td> <td>    0.977</td>\n",
       "</tr>\n",
       "</table>"
      ],
      "text/plain": [
       "<class 'statsmodels.iolib.summary.Summary'>\n",
       "\"\"\"\n",
       "                 Generalized Linear Model Regression Results                  \n",
       "==============================================================================\n",
       "Dep. Variable:                  y_yes   No. Observations:                27769\n",
       "Model:                            GLM   Df Residuals:                    27720\n",
       "Model Family:                Binomial   Df Model:                           48\n",
       "Link Function:                  logit   Scale:                          1.0000\n",
       "Method:                          IRLS   Log-Likelihood:                -7269.3\n",
       "Date:                Tue, 16 Apr 2019   Deviance:                       14539.\n",
       "Time:                        15:48:33   Pearson chi2:                 2.82e+04\n",
       "No. Iterations:                     6   Covariance Type:             nonrobust\n",
       "=================================================================================================\n",
       "                                    coef    std err          z      P>|z|      [0.025      0.975]\n",
       "-------------------------------------------------------------------------------------------------\n",
       "age                              -0.0022      0.003     -0.826      0.409      -0.008       0.003\n",
       "pdays                            -0.0023      0.000     -9.310      0.000      -0.003      -0.002\n",
       "job_blue-collar                  -0.1671      0.086     -1.944      0.052      -0.336       0.001\n",
       "job_entrepreneur                 -0.0600      0.133     -0.453      0.651      -0.320       0.200\n",
       "job_housemaid                    -0.1302      0.164     -0.795      0.426      -0.451       0.191\n",
       "job_management                   -0.1405      0.097     -1.450      0.147      -0.330       0.049\n",
       "job_retired                       0.3322      0.120      2.763      0.006       0.097       0.568\n",
       "job_self-employed                 0.0086      0.123      0.071      0.944      -0.231       0.249\n",
       "job_services                     -0.2607      0.097     -2.699      0.007      -0.450      -0.071\n",
       "job_student                       0.1498      0.131      1.140      0.254      -0.108       0.407\n",
       "job_technician                   -0.0433      0.078     -0.555      0.579      -0.196       0.110\n",
       "job_unemployed                   -0.0700      0.147     -0.477      0.634      -0.358       0.218\n",
       "job_unknown                       0.0236      0.280      0.084      0.933      -0.526       0.573\n",
       "marital_married                   0.1273      0.078      1.629      0.103      -0.026       0.281\n",
       "marital_single                    0.2162      0.088      2.458      0.014       0.044       0.389\n",
       "marital_unknown                   0.3638      0.520      0.699      0.484      -0.656       1.383\n",
       "education_basic.6y                0.0889      0.130      0.685      0.493      -0.165       0.343\n",
       "education_basic.9y               -0.0373      0.102     -0.364      0.715      -0.238       0.163\n",
       "education_high.school             0.0189      0.101      0.187      0.852      -0.179       0.217\n",
       "education_illiterate              0.9679      0.727      1.332      0.183      -0.456       2.392\n",
       "education_professional.course     0.0587      0.111      0.529      0.597      -0.159       0.276\n",
       "education_university.degree       0.0780      0.101      0.773      0.439      -0.120       0.276\n",
       "education_unknown                -0.0064      0.133     -0.048      0.961      -0.268       0.255\n",
       "default_unknown                  -0.1879      0.070     -2.676      0.007      -0.326      -0.050\n",
       "housing_unknown                  -0.1738      0.081     -2.146      0.032      -0.333      -0.015\n",
       "housing_yes                      -0.0606      0.045     -1.337      0.181      -0.150       0.028\n",
       "loan_unknown                     -0.1738      0.081     -2.146      0.032      -0.333      -0.015\n",
       "loan_yes                         -0.1336      0.065     -2.067      0.039      -0.260      -0.007\n",
       "contact_telephone                -0.7452      0.087     -8.612      0.000      -0.915      -0.576\n",
       "month_aug                         0.4723      0.143      3.294      0.001       0.191       0.753\n",
       "month_dec                         0.5675      0.251      2.257      0.024       0.075       1.060\n",
       "month_jul                         0.0441      0.104      0.425      0.671      -0.159       0.248\n",
       "month_jun                        -0.6539      0.149     -4.398      0.000      -0.945      -0.362\n",
       "month_mar                         1.5297      0.167      9.153      0.000       1.202       1.857\n",
       "month_may                        -0.4834      0.091     -5.284      0.000      -0.663      -0.304\n",
       "month_nov                        -0.4427      0.133     -3.340      0.001      -0.703      -0.183\n",
       "month_oct                         0.1571      0.176      0.892      0.373      -0.188       0.502\n",
       "month_sep                         0.2185      0.213      1.027      0.305      -0.199       0.636\n",
       "day_of_week_mon                  -0.1850      0.073     -2.524      0.012      -0.329      -0.041\n",
       "day_of_week_thu                   0.0971      0.070      1.389      0.165      -0.040       0.234\n",
       "day_of_week_tue                   0.0522      0.073      0.718      0.473      -0.090       0.195\n",
       "day_of_week_wed                   0.1559      0.072      2.172      0.030       0.015       0.297\n",
       "poutcome_nonexistent              0.2398      0.162      1.479      0.139      -0.078       0.557\n",
       "campaign                         -0.1035      0.031     -3.345      0.001      -0.164      -0.043\n",
       "previous                         -0.0950      0.046     -2.065      0.039      -0.185      -0.005\n",
       "emp.var.rate                     -2.1694      0.258     -8.418      0.000      -2.675      -1.664\n",
       "cons.price.idx                    1.1672      0.169      6.924      0.000       0.837       1.498\n",
       "cons.conf.idx                     0.1428      0.042      3.396      0.001       0.060       0.225\n",
       "euribor3m                         0.1845      0.246      0.749      0.454      -0.298       0.667\n",
       "nr.employed                       0.5001      0.243      2.054      0.040       0.023       0.977\n",
       "=================================================================================================\n",
       "\"\"\""
      ]
     },
     "execution_count": 174,
     "metadata": {},
     "output_type": "execute_result"
    }
   ],
   "source": [
    "# Logistic regression model\n",
    "logm1 = sm.GLM(y_train_1,(sm.add_constant(x_train_1)), family = sm.families.Binomial())\n",
    "logm1.fit().summary()"
   ]
  },
  {
   "cell_type": "code",
   "execution_count": 175,
   "metadata": {},
   "outputs": [
    {
     "data": {
      "text/plain": [
       "Index(['age', 'pdays', 'job_blue-collar', 'job_entrepreneur', 'job_housemaid',\n",
       "       'job_management', 'job_retired', 'job_self-employed', 'job_services',\n",
       "       'job_student', 'job_technician', 'job_unemployed', 'job_unknown',\n",
       "       'marital_married', 'marital_single', 'marital_unknown',\n",
       "       'education_basic.6y', 'education_basic.9y', 'education_high.school',\n",
       "       'education_illiterate', 'education_professional.course',\n",
       "       'education_university.degree', 'education_unknown', 'default_unknown',\n",
       "       'housing_unknown', 'housing_yes', 'loan_unknown', 'loan_yes',\n",
       "       'contact_telephone', 'month_aug', 'month_dec', 'month_jul', 'month_jun',\n",
       "       'month_mar', 'month_may', 'month_nov', 'month_oct', 'month_sep',\n",
       "       'day_of_week_mon', 'day_of_week_thu', 'day_of_week_tue',\n",
       "       'day_of_week_wed', 'poutcome_nonexistent', 'y_yes', 'campaign',\n",
       "       'previous', 'emp.var.rate', 'cons.price.idx', 'cons.conf.idx',\n",
       "       'euribor3m', 'nr.employed'],\n",
       "      dtype='object')"
      ]
     },
     "execution_count": 175,
     "metadata": {},
     "output_type": "execute_result"
    }
   ],
   "source": [
    "data_bank.columns"
   ]
  },
  {
   "cell_type": "code",
   "execution_count": 176,
   "metadata": {},
   "outputs": [],
   "source": [
    "x_data2 = x_data.drop(['age','euribor3m','job_entrepreneur', 'job_housemaid',\n",
    "       'job_management','job_self-employed', 'job_student', 'job_technician', 'job_unemployed', 'job_unknown',\n",
    "     'marital_married','marital_unknown', 'education_basic.6y', 'education_basic.9y', 'education_high.school',\n",
    "       'education_illiterate', 'education_professional.course', 'education_university.degree', 'education_unknown',\n",
    "     'housing_yes',  'month_jul','month_oct', 'month_sep','day_of_week_thu', 'day_of_week_tue','poutcome_nonexistent'],1)"
   ]
  },
  {
   "cell_type": "code",
   "execution_count": 177,
   "metadata": {},
   "outputs": [],
   "source": [
    "logm2 = sm.GLM(y_data,(sm.add_constant(x_data2)), family = sm.families.Binomial())\n",
    "model2 = logm2.fit()"
   ]
  },
  {
   "cell_type": "code",
   "execution_count": 178,
   "metadata": {},
   "outputs": [
    {
     "data": {
      "text/html": [
       "<table class=\"simpletable\">\n",
       "<tr>\n",
       "        <td>Model:</td>               <td>GLM</td>            <td>AIC:</td>        <td>20970.0872</td> \n",
       "</tr>\n",
       "<tr>\n",
       "    <td>Link Function:</td>          <td>logit</td>           <td>BIC:</td>       <td>-398872.2456</td>\n",
       "</tr>\n",
       "<tr>\n",
       "  <td>Dependent Variable:</td>       <td>y_yes</td>      <td>Log-Likelihood:</td>    <td>-10462.</td>  \n",
       "</tr>\n",
       "<tr>\n",
       "         <td>Date:</td>        <td>2019-04-16 15:48</td>    <td>LL-Null:</td>        <td>-12238.</td>  \n",
       "</tr>\n",
       "<tr>\n",
       "   <td>No. Observations:</td>        <td>39670</td>         <td>Deviance:</td>       <td>20924.</td>   \n",
       "</tr>\n",
       "<tr>\n",
       "       <td>Df Model:</td>             <td>22</td>         <td>Pearson chi2:</td>    <td>4.03e+04</td>  \n",
       "</tr>\n",
       "<tr>\n",
       "     <td>Df Residuals:</td>          <td>39647</td>          <td>Scale:</td>         <td>1.0000</td>   \n",
       "</tr>\n",
       "<tr>\n",
       "        <td>Method:</td>             <td>IRLS</td>              <td></td>               <td></td>      \n",
       "</tr>\n",
       "</table>\n",
       "<table class=\"simpletable\">\n",
       "<tr>\n",
       "          <td></td>           <th>Coef.</th>  <th>Std.Err.</th>     <th>z</th>     <th>P>|z|</th> <th>[0.025</th>  <th>0.975]</th> \n",
       "</tr>\n",
       "<tr>\n",
       "  <th>pdays</th>             <td>-0.0020</td>  <td>0.0000</td>  <td>-43.8679</td> <td>0.0000</td> <td>-0.0021</td> <td>-0.0019</td>\n",
       "</tr>\n",
       "<tr>\n",
       "  <th>job_blue-collar</th>   <td>-0.1748</td>  <td>0.0520</td>   <td>-3.3619</td> <td>0.0008</td> <td>-0.2767</td> <td>-0.0729</td>\n",
       "</tr>\n",
       "<tr>\n",
       "  <th>job_retired</th>       <td>0.2547</td>   <td>0.0774</td>   <td>3.2914</td>  <td>0.0010</td> <td>0.1030</td>  <td>0.4064</td> \n",
       "</tr>\n",
       "<tr>\n",
       "  <th>job_services</th>      <td>-0.1527</td>  <td>0.0694</td>   <td>-2.1985</td> <td>0.0279</td> <td>-0.2888</td> <td>-0.0166</td>\n",
       "</tr>\n",
       "<tr>\n",
       "  <th>marital_single</th>    <td>0.1252</td>   <td>0.0407</td>   <td>3.0800</td>  <td>0.0021</td> <td>0.0455</td>  <td>0.2049</td> \n",
       "</tr>\n",
       "<tr>\n",
       "  <th>default_unknown</th>   <td>-0.2409</td>  <td>0.0577</td>   <td>-4.1735</td> <td>0.0000</td> <td>-0.3540</td> <td>-0.1278</td>\n",
       "</tr>\n",
       "<tr>\n",
       "  <th>housing_unknown</th>   <td>-0.0647</td>  <td>0.0629</td>   <td>-1.0279</td> <td>0.3040</td> <td>-0.1881</td> <td>0.0587</td> \n",
       "</tr>\n",
       "<tr>\n",
       "  <th>loan_unknown</th>      <td>-0.0647</td>  <td>0.0629</td>   <td>-1.0279</td> <td>0.3040</td> <td>-0.1881</td> <td>0.0587</td> \n",
       "</tr>\n",
       "<tr>\n",
       "  <th>loan_yes</th>          <td>-0.0467</td>  <td>0.0526</td>   <td>-0.8887</td> <td>0.3741</td> <td>-0.1498</td> <td>0.0563</td> \n",
       "</tr>\n",
       "<tr>\n",
       "  <th>contact_telephone</th> <td>-0.7645</td>  <td>0.0664</td>  <td>-11.5079</td> <td>0.0000</td> <td>-0.8947</td> <td>-0.6343</td>\n",
       "</tr>\n",
       "<tr>\n",
       "  <th>month_aug</th>         <td>0.3840</td>   <td>0.0839</td>   <td>4.5762</td>  <td>0.0000</td> <td>0.2195</td>  <td>0.5484</td> \n",
       "</tr>\n",
       "<tr>\n",
       "  <th>month_dec</th>         <td>0.5320</td>   <td>0.1887</td>   <td>2.8188</td>  <td>0.0048</td> <td>0.1621</td>  <td>0.9019</td> \n",
       "</tr>\n",
       "<tr>\n",
       "  <th>month_jun</th>         <td>-0.7447</td>  <td>0.1049</td>   <td>-7.1022</td> <td>0.0000</td> <td>-0.9502</td> <td>-0.5392</td>\n",
       "</tr>\n",
       "<tr>\n",
       "  <th>month_mar</th>         <td>1.5260</td>   <td>0.1169</td>   <td>13.0533</td> <td>0.0000</td> <td>1.2968</td>  <td>1.7551</td> \n",
       "</tr>\n",
       "<tr>\n",
       "  <th>month_may</th>         <td>-0.4922</td>  <td>0.0579</td>   <td>-8.5031</td> <td>0.0000</td> <td>-0.6056</td> <td>-0.3787</td>\n",
       "</tr>\n",
       "<tr>\n",
       "  <th>month_nov</th>         <td>-0.4364</td>  <td>0.0717</td>   <td>-6.0866</td> <td>0.0000</td> <td>-0.5769</td> <td>-0.2959</td>\n",
       "</tr>\n",
       "<tr>\n",
       "  <th>day_of_week_mon</th>   <td>-0.2186</td>  <td>0.0489</td>   <td>-4.4736</td> <td>0.0000</td> <td>-0.3143</td> <td>-0.1228</td>\n",
       "</tr>\n",
       "<tr>\n",
       "  <th>day_of_week_wed</th>   <td>0.1154</td>   <td>0.0476</td>   <td>2.4248</td>  <td>0.0153</td> <td>0.0221</td>  <td>0.2088</td> \n",
       "</tr>\n",
       "<tr>\n",
       "  <th>campaign</th>          <td>-0.1078</td>  <td>0.0257</td>   <td>-4.1992</td> <td>0.0000</td> <td>-0.1581</td> <td>-0.0575</td>\n",
       "</tr>\n",
       "<tr>\n",
       "  <th>previous</th>          <td>-0.1541</td>  <td>0.0165</td>   <td>-9.3440</td> <td>0.0000</td> <td>-0.1864</td> <td>-0.1218</td>\n",
       "</tr>\n",
       "<tr>\n",
       "  <th>emp.var.rate</th>      <td>-2.1847</td>  <td>0.1795</td>  <td>-12.1697</td> <td>0.0000</td> <td>-2.5366</td> <td>-1.8329</td>\n",
       "</tr>\n",
       "<tr>\n",
       "  <th>cons.price.idx</th>    <td>1.2530</td>   <td>0.1064</td>   <td>11.7743</td> <td>0.0000</td> <td>1.0445</td>  <td>1.4616</td> \n",
       "</tr>\n",
       "<tr>\n",
       "  <th>cons.conf.idx</th>     <td>0.2050</td>   <td>0.0217</td>   <td>9.4420</td>  <td>0.0000</td> <td>0.1624</td>  <td>0.2475</td> \n",
       "</tr>\n",
       "<tr>\n",
       "  <th>nr.employed</th>       <td>0.6515</td>   <td>0.1110</td>   <td>5.8690</td>  <td>0.0000</td> <td>0.4339</td>  <td>0.8691</td> \n",
       "</tr>\n",
       "</table>"
      ],
      "text/plain": [
       "<class 'statsmodels.iolib.summary2.Summary'>\n",
       "\"\"\"\n",
       "                Results: Generalized linear model\n",
       "==================================================================\n",
       "Model:               GLM              AIC:            20970.0872  \n",
       "Link Function:       logit            BIC:            -398872.2456\n",
       "Dependent Variable:  y_yes            Log-Likelihood: -10462.     \n",
       "Date:                2019-04-16 15:48 LL-Null:        -12238.     \n",
       "No. Observations:    39670            Deviance:       20924.      \n",
       "Df Model:            22               Pearson chi2:   4.03e+04    \n",
       "Df Residuals:        39647            Scale:          1.0000      \n",
       "Method:              IRLS                                         \n",
       "------------------------------------------------------------------\n",
       "                   Coef.  Std.Err.    z     P>|z|   [0.025  0.975]\n",
       "------------------------------------------------------------------\n",
       "pdays             -0.0020   0.0000 -43.8679 0.0000 -0.0021 -0.0019\n",
       "job_blue-collar   -0.1748   0.0520  -3.3619 0.0008 -0.2767 -0.0729\n",
       "job_retired        0.2547   0.0774   3.2914 0.0010  0.1030  0.4064\n",
       "job_services      -0.1527   0.0694  -2.1985 0.0279 -0.2888 -0.0166\n",
       "marital_single     0.1252   0.0407   3.0800 0.0021  0.0455  0.2049\n",
       "default_unknown   -0.2409   0.0577  -4.1735 0.0000 -0.3540 -0.1278\n",
       "housing_unknown   -0.0647   0.0629  -1.0279 0.3040 -0.1881  0.0587\n",
       "loan_unknown      -0.0647   0.0629  -1.0279 0.3040 -0.1881  0.0587\n",
       "loan_yes          -0.0467   0.0526  -0.8887 0.3741 -0.1498  0.0563\n",
       "contact_telephone -0.7645   0.0664 -11.5079 0.0000 -0.8947 -0.6343\n",
       "month_aug          0.3840   0.0839   4.5762 0.0000  0.2195  0.5484\n",
       "month_dec          0.5320   0.1887   2.8188 0.0048  0.1621  0.9019\n",
       "month_jun         -0.7447   0.1049  -7.1022 0.0000 -0.9502 -0.5392\n",
       "month_mar          1.5260   0.1169  13.0533 0.0000  1.2968  1.7551\n",
       "month_may         -0.4922   0.0579  -8.5031 0.0000 -0.6056 -0.3787\n",
       "month_nov         -0.4364   0.0717  -6.0866 0.0000 -0.5769 -0.2959\n",
       "day_of_week_mon   -0.2186   0.0489  -4.4736 0.0000 -0.3143 -0.1228\n",
       "day_of_week_wed    0.1154   0.0476   2.4248 0.0153  0.0221  0.2088\n",
       "campaign          -0.1078   0.0257  -4.1992 0.0000 -0.1581 -0.0575\n",
       "previous          -0.1541   0.0165  -9.3440 0.0000 -0.1864 -0.1218\n",
       "emp.var.rate      -2.1847   0.1795 -12.1697 0.0000 -2.5366 -1.8329\n",
       "cons.price.idx     1.2530   0.1064  11.7743 0.0000  1.0445  1.4616\n",
       "cons.conf.idx      0.2050   0.0217   9.4420 0.0000  0.1624  0.2475\n",
       "nr.employed        0.6515   0.1110   5.8690 0.0000  0.4339  0.8691\n",
       "==================================================================\n",
       "\n",
       "\"\"\""
      ]
     },
     "execution_count": 178,
     "metadata": {},
     "output_type": "execute_result"
    }
   ],
   "source": [
    "model2.summary2()"
   ]
  },
  {
   "cell_type": "code",
   "execution_count": 179,
   "metadata": {},
   "outputs": [],
   "source": [
    "x_data2 = x_data2.drop(['housing_unknown','loan_unknown','loan_yes'],1)"
   ]
  },
  {
   "cell_type": "code",
   "execution_count": 180,
   "metadata": {},
   "outputs": [],
   "source": [
    "logm3 = sm.GLM(y_data,(sm.add_constant(x_data2)), family = sm.families.Binomial())\n",
    "model3 = logm3.fit()"
   ]
  },
  {
   "cell_type": "code",
   "execution_count": 181,
   "metadata": {},
   "outputs": [
    {
     "data": {
      "text/html": [
       "<table class=\"simpletable\">\n",
       "<tr>\n",
       "        <td>Model:</td>               <td>GLM</td>            <td>AIC:</td>        <td>20967.8559</td> \n",
       "</tr>\n",
       "<tr>\n",
       "    <td>Link Function:</td>          <td>logit</td>           <td>BIC:</td>       <td>-398891.6537</td>\n",
       "</tr>\n",
       "<tr>\n",
       "  <td>Dependent Variable:</td>       <td>y_yes</td>      <td>Log-Likelihood:</td>    <td>-10463.</td>  \n",
       "</tr>\n",
       "<tr>\n",
       "         <td>Date:</td>        <td>2019-04-16 15:48</td>    <td>LL-Null:</td>        <td>-12238.</td>  \n",
       "</tr>\n",
       "<tr>\n",
       "   <td>No. Observations:</td>        <td>39670</td>         <td>Deviance:</td>       <td>20926.</td>   \n",
       "</tr>\n",
       "<tr>\n",
       "       <td>Df Model:</td>             <td>20</td>         <td>Pearson chi2:</td>    <td>4.03e+04</td>  \n",
       "</tr>\n",
       "<tr>\n",
       "     <td>Df Residuals:</td>          <td>39649</td>          <td>Scale:</td>         <td>1.0000</td>   \n",
       "</tr>\n",
       "<tr>\n",
       "        <td>Method:</td>             <td>IRLS</td>              <td></td>               <td></td>      \n",
       "</tr>\n",
       "</table>\n",
       "<table class=\"simpletable\">\n",
       "<tr>\n",
       "          <td></td>           <th>Coef.</th>  <th>Std.Err.</th>     <th>z</th>     <th>P>|z|</th> <th>[0.025</th>  <th>0.975]</th> \n",
       "</tr>\n",
       "<tr>\n",
       "  <th>pdays</th>             <td>-0.0020</td>  <td>0.0000</td>  <td>-44.9472</td> <td>0.0000</td> <td>-0.0021</td> <td>-0.0019</td>\n",
       "</tr>\n",
       "<tr>\n",
       "  <th>job_blue-collar</th>   <td>-0.1746</td>  <td>0.0520</td>   <td>-3.3589</td> <td>0.0008</td> <td>-0.2765</td> <td>-0.0727</td>\n",
       "</tr>\n",
       "<tr>\n",
       "  <th>job_retired</th>       <td>0.2552</td>   <td>0.0774</td>   <td>3.2982</td>  <td>0.0010</td> <td>0.1035</td>  <td>0.4068</td> \n",
       "</tr>\n",
       "<tr>\n",
       "  <th>job_services</th>      <td>-0.1528</td>  <td>0.0694</td>   <td>-2.2006</td> <td>0.0278</td> <td>-0.2889</td> <td>-0.0167</td>\n",
       "</tr>\n",
       "<tr>\n",
       "  <th>marital_single</th>    <td>0.1252</td>   <td>0.0407</td>   <td>3.0804</td>  <td>0.0021</td> <td>0.0455</td>  <td>0.2049</td> \n",
       "</tr>\n",
       "<tr>\n",
       "  <th>default_unknown</th>   <td>-0.2406</td>  <td>0.0577</td>   <td>-4.1683</td> <td>0.0000</td> <td>-0.3537</td> <td>-0.1274</td>\n",
       "</tr>\n",
       "<tr>\n",
       "  <th>contact_telephone</th> <td>-0.7637</td>  <td>0.0664</td>  <td>-11.4976</td> <td>0.0000</td> <td>-0.8939</td> <td>-0.6335</td>\n",
       "</tr>\n",
       "<tr>\n",
       "  <th>month_aug</th>         <td>0.3837</td>   <td>0.0839</td>   <td>4.5738</td>  <td>0.0000</td> <td>0.2193</td>  <td>0.5482</td> \n",
       "</tr>\n",
       "<tr>\n",
       "  <th>month_dec</th>         <td>0.5280</td>   <td>0.1886</td>   <td>2.7994</td>  <td>0.0051</td> <td>0.1583</td>  <td>0.8977</td> \n",
       "</tr>\n",
       "<tr>\n",
       "  <th>month_jun</th>         <td>-0.7443</td>  <td>0.1049</td>   <td>-7.0977</td> <td>0.0000</td> <td>-0.9498</td> <td>-0.5388</td>\n",
       "</tr>\n",
       "<tr>\n",
       "  <th>month_mar</th>         <td>1.5253</td>   <td>0.1169</td>   <td>13.0489</td> <td>0.0000</td> <td>1.2962</td>  <td>1.7544</td> \n",
       "</tr>\n",
       "<tr>\n",
       "  <th>month_may</th>         <td>-0.4931</td>  <td>0.0579</td>   <td>-8.5201</td> <td>0.0000</td> <td>-0.6065</td> <td>-0.3796</td>\n",
       "</tr>\n",
       "<tr>\n",
       "  <th>month_nov</th>         <td>-0.4359</td>  <td>0.0717</td>   <td>-6.0794</td> <td>0.0000</td> <td>-0.5764</td> <td>-0.2953</td>\n",
       "</tr>\n",
       "<tr>\n",
       "  <th>day_of_week_mon</th>   <td>-0.2183</td>  <td>0.0489</td>   <td>-4.4694</td> <td>0.0000</td> <td>-0.3141</td> <td>-0.1226</td>\n",
       "</tr>\n",
       "<tr>\n",
       "  <th>day_of_week_wed</th>   <td>0.1155</td>   <td>0.0476</td>   <td>2.4262</td>  <td>0.0153</td> <td>0.0222</td>  <td>0.2088</td> \n",
       "</tr>\n",
       "<tr>\n",
       "  <th>campaign</th>          <td>-0.1082</td>  <td>0.0257</td>   <td>-4.2133</td> <td>0.0000</td> <td>-0.1586</td> <td>-0.0579</td>\n",
       "</tr>\n",
       "<tr>\n",
       "  <th>previous</th>          <td>-0.1542</td>  <td>0.0165</td>   <td>-9.3509</td> <td>0.0000</td> <td>-0.1866</td> <td>-0.1219</td>\n",
       "</tr>\n",
       "<tr>\n",
       "  <th>emp.var.rate</th>      <td>-2.1815</td>  <td>0.1795</td>  <td>-12.1539</td> <td>0.0000</td> <td>-2.5333</td> <td>-1.8297</td>\n",
       "</tr>\n",
       "<tr>\n",
       "  <th>cons.price.idx</th>    <td>1.2513</td>   <td>0.1064</td>   <td>11.7603</td> <td>0.0000</td> <td>1.0427</td>  <td>1.4598</td> \n",
       "</tr>\n",
       "<tr>\n",
       "  <th>cons.conf.idx</th>     <td>0.2047</td>   <td>0.0217</td>   <td>9.4299</td>  <td>0.0000</td> <td>0.1621</td>  <td>0.2472</td> \n",
       "</tr>\n",
       "<tr>\n",
       "  <th>nr.employed</th>       <td>0.6494</td>   <td>0.1110</td>   <td>5.8508</td>  <td>0.0000</td> <td>0.4318</td>  <td>0.8669</td> \n",
       "</tr>\n",
       "</table>"
      ],
      "text/plain": [
       "<class 'statsmodels.iolib.summary2.Summary'>\n",
       "\"\"\"\n",
       "                Results: Generalized linear model\n",
       "==================================================================\n",
       "Model:               GLM              AIC:            20967.8559  \n",
       "Link Function:       logit            BIC:            -398891.6537\n",
       "Dependent Variable:  y_yes            Log-Likelihood: -10463.     \n",
       "Date:                2019-04-16 15:48 LL-Null:        -12238.     \n",
       "No. Observations:    39670            Deviance:       20926.      \n",
       "Df Model:            20               Pearson chi2:   4.03e+04    \n",
       "Df Residuals:        39649            Scale:          1.0000      \n",
       "Method:              IRLS                                         \n",
       "------------------------------------------------------------------\n",
       "                   Coef.  Std.Err.    z     P>|z|   [0.025  0.975]\n",
       "------------------------------------------------------------------\n",
       "pdays             -0.0020   0.0000 -44.9472 0.0000 -0.0021 -0.0019\n",
       "job_blue-collar   -0.1746   0.0520  -3.3589 0.0008 -0.2765 -0.0727\n",
       "job_retired        0.2552   0.0774   3.2982 0.0010  0.1035  0.4068\n",
       "job_services      -0.1528   0.0694  -2.2006 0.0278 -0.2889 -0.0167\n",
       "marital_single     0.1252   0.0407   3.0804 0.0021  0.0455  0.2049\n",
       "default_unknown   -0.2406   0.0577  -4.1683 0.0000 -0.3537 -0.1274\n",
       "contact_telephone -0.7637   0.0664 -11.4976 0.0000 -0.8939 -0.6335\n",
       "month_aug          0.3837   0.0839   4.5738 0.0000  0.2193  0.5482\n",
       "month_dec          0.5280   0.1886   2.7994 0.0051  0.1583  0.8977\n",
       "month_jun         -0.7443   0.1049  -7.0977 0.0000 -0.9498 -0.5388\n",
       "month_mar          1.5253   0.1169  13.0489 0.0000  1.2962  1.7544\n",
       "month_may         -0.4931   0.0579  -8.5201 0.0000 -0.6065 -0.3796\n",
       "month_nov         -0.4359   0.0717  -6.0794 0.0000 -0.5764 -0.2953\n",
       "day_of_week_mon   -0.2183   0.0489  -4.4694 0.0000 -0.3141 -0.1226\n",
       "day_of_week_wed    0.1155   0.0476   2.4262 0.0153  0.0222  0.2088\n",
       "campaign          -0.1082   0.0257  -4.2133 0.0000 -0.1586 -0.0579\n",
       "previous          -0.1542   0.0165  -9.3509 0.0000 -0.1866 -0.1219\n",
       "emp.var.rate      -2.1815   0.1795 -12.1539 0.0000 -2.5333 -1.8297\n",
       "cons.price.idx     1.2513   0.1064  11.7603 0.0000  1.0427  1.4598\n",
       "cons.conf.idx      0.2047   0.0217   9.4299 0.0000  0.1621  0.2472\n",
       "nr.employed        0.6494   0.1110   5.8508 0.0000  0.4318  0.8669\n",
       "==================================================================\n",
       "\n",
       "\"\"\""
      ]
     },
     "execution_count": 181,
     "metadata": {},
     "output_type": "execute_result"
    }
   ],
   "source": [
    "model3.summary2()"
   ]
  },
  {
   "cell_type": "markdown",
   "metadata": {},
   "source": [
    "# Feature elimination"
   ]
  },
  {
   "cell_type": "code",
   "execution_count": 182,
   "metadata": {},
   "outputs": [
    {
     "name": "stdout",
     "output_type": "stream",
     "text": [
      "[False False  True False False  True  True  True  True  True  True  True\n",
      "  True  True False False False  True  True False  True]\n",
      "[9 3 1 4 6 1 1 1 1 1 1 1 1 1 7 8 5 1 1 2 1]\n"
     ]
    }
   ],
   "source": [
    "logreg = LogisticRegression()\n",
    "rfe = RFE(logreg, 13)             # running RFE with 20 variables as output\n",
    "rfe = rfe.fit(x_data2,y_data)\n",
    "print(rfe.support_)           # Printing the boolean results\n",
    "print(rfe.ranking_)           # Printing the ranking"
   ]
  },
  {
   "cell_type": "code",
   "execution_count": null,
   "metadata": {},
   "outputs": [],
   "source": []
  },
  {
   "cell_type": "code",
   "execution_count": 183,
   "metadata": {},
   "outputs": [
    {
     "data": {
      "text/plain": [
       "Index(['pdays', 'job_blue-collar', 'job_retired', 'job_services',\n",
       "       'marital_single', 'default_unknown', 'contact_telephone', 'month_aug',\n",
       "       'month_dec', 'month_jun', 'month_mar', 'month_may', 'month_nov',\n",
       "       'day_of_week_mon', 'day_of_week_wed', 'campaign', 'previous',\n",
       "       'emp.var.rate', 'cons.price.idx', 'cons.conf.idx', 'nr.employed'],\n",
       "      dtype='object')"
      ]
     },
     "execution_count": 183,
     "metadata": {},
     "output_type": "execute_result"
    }
   ],
   "source": [
    "x_data2.columns"
   ]
  },
  {
   "cell_type": "code",
   "execution_count": 184,
   "metadata": {},
   "outputs": [],
   "source": [
    "x_data3 = x_data2[['job_blue-collar', 'job_retired',\n",
    "       'job_services','default_unknown',\n",
    "       'contact_telephone', 'month_aug', 'month_dec','month_mar',\n",
    "       'month_may', 'month_nov', 'day_of_week_mon']]"
   ]
  },
  {
   "cell_type": "code",
   "execution_count": 185,
   "metadata": {},
   "outputs": [],
   "source": [
    "logm4 = sm.GLM(y_data,(sm.add_constant(x_data3)), family = sm.families.Binomial())\n",
    "model4 = logm4.fit()"
   ]
  },
  {
   "cell_type": "code",
   "execution_count": 186,
   "metadata": {},
   "outputs": [
    {
     "data": {
      "text/html": [
       "<table class=\"simpletable\">\n",
       "<tr>\n",
       "        <td>Model:</td>               <td>GLM</td>            <td>AIC:</td>        <td>22773.2787</td> \n",
       "</tr>\n",
       "<tr>\n",
       "    <td>Link Function:</td>          <td>logit</td>           <td>BIC:</td>       <td>-397163.5260</td>\n",
       "</tr>\n",
       "<tr>\n",
       "  <td>Dependent Variable:</td>       <td>y_yes</td>      <td>Log-Likelihood:</td>    <td>-11375.</td>  \n",
       "</tr>\n",
       "<tr>\n",
       "         <td>Date:</td>        <td>2019-04-16 15:48</td>    <td>LL-Null:</td>        <td>-12238.</td>  \n",
       "</tr>\n",
       "<tr>\n",
       "   <td>No. Observations:</td>        <td>39670</td>         <td>Deviance:</td>       <td>22749.</td>   \n",
       "</tr>\n",
       "<tr>\n",
       "       <td>Df Model:</td>             <td>11</td>         <td>Pearson chi2:</td>    <td>4.06e+04</td>  \n",
       "</tr>\n",
       "<tr>\n",
       "     <td>Df Residuals:</td>          <td>39658</td>          <td>Scale:</td>         <td>1.0000</td>   \n",
       "</tr>\n",
       "<tr>\n",
       "        <td>Method:</td>             <td>IRLS</td>              <td></td>               <td></td>      \n",
       "</tr>\n",
       "</table>\n",
       "<table class=\"simpletable\">\n",
       "<tr>\n",
       "          <td></td>           <th>Coef.</th>  <th>Std.Err.</th>     <th>z</th>     <th>P>|z|</th> <th>[0.025</th>  <th>0.975]</th> \n",
       "</tr>\n",
       "<tr>\n",
       "  <th>const</th>             <td>-1.5510</td>  <td>0.0320</td>  <td>-48.4284</td> <td>0.0000</td> <td>-1.6138</td> <td>-1.4882</td>\n",
       "</tr>\n",
       "<tr>\n",
       "  <th>job_blue-collar</th>   <td>-0.3342</td>  <td>0.0499</td>   <td>-6.6911</td> <td>0.0000</td> <td>-0.4321</td> <td>-0.2363</td>\n",
       "</tr>\n",
       "<tr>\n",
       "  <th>job_retired</th>       <td>0.7093</td>   <td>0.0706</td>   <td>10.0499</td> <td>0.0000</td> <td>0.5710</td>  <td>0.8477</td> \n",
       "</tr>\n",
       "<tr>\n",
       "  <th>job_services</th>      <td>-0.2886</td>  <td>0.0674</td>   <td>-4.2829</td> <td>0.0000</td> <td>-0.4206</td> <td>-0.1565</td>\n",
       "</tr>\n",
       "<tr>\n",
       "  <th>default_unknown</th>   <td>-0.6307</td>  <td>0.0553</td>  <td>-11.3987</td> <td>0.0000</td> <td>-0.7392</td> <td>-0.5223</td>\n",
       "</tr>\n",
       "<tr>\n",
       "  <th>contact_telephone</th> <td>-0.9058</td>  <td>0.0459</td>  <td>-19.7161</td> <td>0.0000</td> <td>-0.9959</td> <td>-0.8158</td>\n",
       "</tr>\n",
       "<tr>\n",
       "  <th>month_aug</th>         <td>-0.6708</td>  <td>0.0545</td>  <td>-12.3067</td> <td>0.0000</td> <td>-0.7776</td> <td>-0.5640</td>\n",
       "</tr>\n",
       "<tr>\n",
       "  <th>month_dec</th>         <td>1.3912</td>   <td>0.1805</td>   <td>7.7058</td>  <td>0.0000</td> <td>1.0373</td>  <td>1.7450</td> \n",
       "</tr>\n",
       "<tr>\n",
       "  <th>month_mar</th>         <td>1.4865</td>   <td>0.0996</td>   <td>14.9277</td> <td>0.0000</td> <td>1.2913</td>  <td>1.6817</td> \n",
       "</tr>\n",
       "<tr>\n",
       "  <th>month_may</th>         <td>-0.5446</td>  <td>0.0463</td>  <td>-11.7732</td> <td>0.0000</td> <td>-0.6352</td> <td>-0.4539</td>\n",
       "</tr>\n",
       "<tr>\n",
       "  <th>month_nov</th>         <td>-0.7202</td>  <td>0.0655</td>  <td>-10.9897</td> <td>0.0000</td> <td>-0.8487</td> <td>-0.5918</td>\n",
       "</tr>\n",
       "<tr>\n",
       "  <th>day_of_week_mon</th>   <td>-0.2041</td>  <td>0.0455</td>   <td>-4.4816</td> <td>0.0000</td> <td>-0.2934</td> <td>-0.1148</td>\n",
       "</tr>\n",
       "</table>"
      ],
      "text/plain": [
       "<class 'statsmodels.iolib.summary2.Summary'>\n",
       "\"\"\"\n",
       "                Results: Generalized linear model\n",
       "==================================================================\n",
       "Model:               GLM              AIC:            22773.2787  \n",
       "Link Function:       logit            BIC:            -397163.5260\n",
       "Dependent Variable:  y_yes            Log-Likelihood: -11375.     \n",
       "Date:                2019-04-16 15:48 LL-Null:        -12238.     \n",
       "No. Observations:    39670            Deviance:       22749.      \n",
       "Df Model:            11               Pearson chi2:   4.06e+04    \n",
       "Df Residuals:        39658            Scale:          1.0000      \n",
       "Method:              IRLS                                         \n",
       "------------------------------------------------------------------\n",
       "                   Coef.  Std.Err.    z     P>|z|   [0.025  0.975]\n",
       "------------------------------------------------------------------\n",
       "const             -1.5510   0.0320 -48.4284 0.0000 -1.6138 -1.4882\n",
       "job_blue-collar   -0.3342   0.0499  -6.6911 0.0000 -0.4321 -0.2363\n",
       "job_retired        0.7093   0.0706  10.0499 0.0000  0.5710  0.8477\n",
       "job_services      -0.2886   0.0674  -4.2829 0.0000 -0.4206 -0.1565\n",
       "default_unknown   -0.6307   0.0553 -11.3987 0.0000 -0.7392 -0.5223\n",
       "contact_telephone -0.9058   0.0459 -19.7161 0.0000 -0.9959 -0.8158\n",
       "month_aug         -0.6708   0.0545 -12.3067 0.0000 -0.7776 -0.5640\n",
       "month_dec          1.3912   0.1805   7.7058 0.0000  1.0373  1.7450\n",
       "month_mar          1.4865   0.0996  14.9277 0.0000  1.2913  1.6817\n",
       "month_may         -0.5446   0.0463 -11.7732 0.0000 -0.6352 -0.4539\n",
       "month_nov         -0.7202   0.0655 -10.9897 0.0000 -0.8487 -0.5918\n",
       "day_of_week_mon   -0.2041   0.0455  -4.4816 0.0000 -0.2934 -0.1148\n",
       "==================================================================\n",
       "\n",
       "\"\"\""
      ]
     },
     "execution_count": 186,
     "metadata": {},
     "output_type": "execute_result"
    }
   ],
   "source": [
    "model4.summary2()"
   ]
  },
  {
   "cell_type": "code",
   "execution_count": 187,
   "metadata": {},
   "outputs": [],
   "source": [
    "# UDF for calculating vif value\n",
    "def vif_cal(input_data, dependent_col):\n",
    "    vif_df = pd.DataFrame( columns = ['Var', 'Vif'])\n",
    "    x_vars=input_data\n",
    "    xvar_names=x_vars.columns\n",
    "    for i in range(0,xvar_names.shape[0]):\n",
    "        y=x_vars[xvar_names[i]] \n",
    "        x=x_vars[xvar_names.drop(xvar_names[i])]\n",
    "        rsq=sm.OLS(y,x).fit().rsquared  \n",
    "        vif=round(1/(1-rsq),2)\n",
    "        vif_df.loc[i] = [xvar_names[i], vif]\n",
    "    return vif_df.sort_values(by = 'Vif', axis=0, ascending=False, inplace=False)"
   ]
  },
  {
   "cell_type": "code",
   "execution_count": 188,
   "metadata": {},
   "outputs": [
    {
     "data": {
      "text/html": [
       "<div>\n",
       "<style scoped>\n",
       "    .dataframe tbody tr th:only-of-type {\n",
       "        vertical-align: middle;\n",
       "    }\n",
       "\n",
       "    .dataframe tbody tr th {\n",
       "        vertical-align: top;\n",
       "    }\n",
       "\n",
       "    .dataframe thead th {\n",
       "        text-align: right;\n",
       "    }\n",
       "</style>\n",
       "<table border=\"1\" class=\"dataframe\">\n",
       "  <thead>\n",
       "    <tr style=\"text-align: right;\">\n",
       "      <th></th>\n",
       "      <th>Var</th>\n",
       "      <th>Vif</th>\n",
       "    </tr>\n",
       "  </thead>\n",
       "  <tbody>\n",
       "    <tr>\n",
       "      <th>6</th>\n",
       "      <td>month_dec</td>\n",
       "      <td>1.01</td>\n",
       "    </tr>\n",
       "    <tr>\n",
       "      <th>7</th>\n",
       "      <td>month_mar</td>\n",
       "      <td>0.44</td>\n",
       "    </tr>\n",
       "    <tr>\n",
       "      <th>8</th>\n",
       "      <td>month_may</td>\n",
       "      <td>0.03</td>\n",
       "    </tr>\n",
       "    <tr>\n",
       "      <th>0</th>\n",
       "      <td>job_blue-collar</td>\n",
       "      <td>0.02</td>\n",
       "    </tr>\n",
       "    <tr>\n",
       "      <th>2</th>\n",
       "      <td>job_services</td>\n",
       "      <td>0.02</td>\n",
       "    </tr>\n",
       "    <tr>\n",
       "      <th>9</th>\n",
       "      <td>month_nov</td>\n",
       "      <td>0.02</td>\n",
       "    </tr>\n",
       "    <tr>\n",
       "      <th>1</th>\n",
       "      <td>job_retired</td>\n",
       "      <td>0.01</td>\n",
       "    </tr>\n",
       "    <tr>\n",
       "      <th>3</th>\n",
       "      <td>default_unknown</td>\n",
       "      <td>0.01</td>\n",
       "    </tr>\n",
       "    <tr>\n",
       "      <th>4</th>\n",
       "      <td>contact_telephone</td>\n",
       "      <td>0.01</td>\n",
       "    </tr>\n",
       "    <tr>\n",
       "      <th>5</th>\n",
       "      <td>month_aug</td>\n",
       "      <td>0.01</td>\n",
       "    </tr>\n",
       "    <tr>\n",
       "      <th>10</th>\n",
       "      <td>day_of_week_mon</td>\n",
       "      <td>0.00</td>\n",
       "    </tr>\n",
       "  </tbody>\n",
       "</table>\n",
       "</div>"
      ],
      "text/plain": [
       "                  Var   Vif\n",
       "6           month_dec  1.01\n",
       "7           month_mar  0.44\n",
       "8           month_may  0.03\n",
       "0     job_blue-collar  0.02\n",
       "2        job_services  0.02\n",
       "9           month_nov  0.02\n",
       "1         job_retired  0.01\n",
       "3     default_unknown  0.01\n",
       "4   contact_telephone  0.01\n",
       "5           month_aug  0.01\n",
       "10    day_of_week_mon  0.00"
      ]
     },
     "execution_count": 188,
     "metadata": {},
     "output_type": "execute_result"
    }
   ],
   "source": [
    "vif_cal(x_data3,y_data)"
   ]
  },
  {
   "cell_type": "markdown",
   "metadata": {},
   "source": [
    "# Building the model "
   ]
  },
  {
   "cell_type": "markdown",
   "metadata": {},
   "source": [
    "# Logistic"
   ]
  },
  {
   "cell_type": "code",
   "execution_count": 189,
   "metadata": {},
   "outputs": [],
   "source": [
    "x_train, x_test, y_train, y_test = train_test_split(x_data3, y_data, test_size=0.30, stratify = y_data, random_state = 99)"
   ]
  },
  {
   "cell_type": "code",
   "execution_count": 190,
   "metadata": {},
   "outputs": [
    {
     "data": {
      "text/plain": [
       "LogisticRegression(C=1.0, class_weight=None, dual=False, fit_intercept=True,\n",
       "          intercept_scaling=1, max_iter=100, multi_class='warn',\n",
       "          n_jobs=None, penalty='l2', random_state=None, solver='warn',\n",
       "          tol=0.0001, verbose=0, warm_start=False)"
      ]
     },
     "execution_count": 190,
     "metadata": {},
     "output_type": "execute_result"
    }
   ],
   "source": [
    "log_final = LogisticRegression()\n",
    "log_final.fit(x_train, y_train)"
   ]
  },
  {
   "cell_type": "code",
   "execution_count": 191,
   "metadata": {},
   "outputs": [],
   "source": [
    "y_pred = log_final.predict(x_test)"
   ]
  },
  {
   "cell_type": "code",
   "execution_count": 192,
   "metadata": {},
   "outputs": [
    {
     "name": "stdout",
     "output_type": "stream",
     "text": [
      "0.01073345259391771\n"
     ]
    }
   ],
   "source": [
    "print(f1_score(y_test,y_pred))"
   ]
  },
  {
   "cell_type": "code",
   "execution_count": 193,
   "metadata": {},
   "outputs": [
    {
     "data": {
      "text/plain": [
       "array([[10789,    10],\n",
       "       [ 1096,     6]], dtype=int64)"
      ]
     },
     "execution_count": 193,
     "metadata": {},
     "output_type": "execute_result"
    }
   ],
   "source": [
    "lcf = metrics.confusion_matrix(y_test,y_pred)\n",
    "lcf"
   ]
  },
  {
   "cell_type": "code",
   "execution_count": 194,
   "metadata": {},
   "outputs": [],
   "source": [
    "lr_final= LogisticRegression(C=1.0, penalty='l2',class_weight='balanced')\n",
    "m_final = lr_final.fit(x_train,y_train)\n",
    "p_fianl = lr_final.predict(x_test)"
   ]
  },
  {
   "cell_type": "code",
   "execution_count": 195,
   "metadata": {},
   "outputs": [
    {
     "name": "stdout",
     "output_type": "stream",
     "text": [
      "0.2494577006507592\n"
     ]
    }
   ],
   "source": [
    "print(f1_score(y_test,p_fianl))"
   ]
  },
  {
   "cell_type": "code",
   "execution_count": 196,
   "metadata": {},
   "outputs": [
    {
     "data": {
      "text/plain": [
       "array([[7059, 3740],\n",
       "       [ 412,  690]], dtype=int64)"
      ]
     },
     "execution_count": 196,
     "metadata": {},
     "output_type": "execute_result"
    }
   ],
   "source": [
    "clr = metrics.confusion_matrix(y_test,p_fianl)\n",
    "clr"
   ]
  },
  {
   "cell_type": "code",
   "execution_count": 197,
   "metadata": {},
   "outputs": [
    {
     "data": {
      "text/plain": [
       "GridSearchCV(cv=5, error_score='raise-deprecating',\n",
       "       estimator=LogisticRegression(C=1.0, class_weight=None, dual=False, fit_intercept=True,\n",
       "          intercept_scaling=1, max_iter=100, multi_class='warn',\n",
       "          n_jobs=None, penalty='l2', random_state=None, solver='warn',\n",
       "          tol=0.0001, verbose=0, warm_start=False),\n",
       "       fit_params=None, iid='warn', n_jobs=None,\n",
       "       param_grid={'class_weight': [{0: 0.05, 1: 0.95}, {0: 0.09736842105263158, 1: 0.9026315789473685}, {0: 0.14473684210526316, 1: 0.8552631578947368}, {0: 0.19210526315789472, 1: 0.8078947368421052}, {0: 0.23947368421052628, 1: 0.7605263157894737}, {0: 0.28684210526315784, 1: 0.7131578947368422}, {0: 0....684210526316}, {0: 0.9026315789473683, 1: 0.09736842105263166}, {0: 0.95, 1: 0.050000000000000044}]},\n",
       "       pre_dispatch='2*n_jobs', refit=True, return_train_score='warn',\n",
       "       scoring='f1', verbose=0)"
      ]
     },
     "execution_count": 197,
     "metadata": {},
     "output_type": "execute_result"
    }
   ],
   "source": [
    "weights = np.linspace(0.05, 0.95, 20)\n",
    "tuned_parameters = {'class_weight':  [{0: x, 1: 1.0-x} for x in weights]}\n",
    "\n",
    "model_lr = GridSearchCV(LogisticRegression(), tuned_parameters, scoring = 'f1', cv=5)\n",
    "model_lr.fit(x_data3, y_data)"
   ]
  },
  {
   "cell_type": "code",
   "execution_count": 198,
   "metadata": {},
   "outputs": [],
   "source": [
    "lr_final_f= LogisticRegression(C=1, penalty='l2',class_weight=  {0: 0.09736842105263158, 1: 0.9026315789473685})\n",
    "m_f = lr_final_f.fit(x_train,y_train)\n",
    "p_f = lr_final_f.predict(x_test)"
   ]
  },
  {
   "cell_type": "code",
   "execution_count": 199,
   "metadata": {},
   "outputs": [
    {
     "name": "stdout",
     "output_type": "stream",
     "text": [
      "0.24954792043399635\n"
     ]
    }
   ],
   "source": [
    "print(f1_score(y_test,p_f))"
   ]
  },
  {
   "cell_type": "code",
   "execution_count": 200,
   "metadata": {},
   "outputs": [
    {
     "data": {
      "text/plain": [
       "array([[7061, 3738],\n",
       "       [ 412,  690]], dtype=int64)"
      ]
     },
     "execution_count": 200,
     "metadata": {},
     "output_type": "execute_result"
    }
   ],
   "source": [
    "logistic_cx = metrics.confusion_matrix(y_test,p_f)\n",
    "logistic_cx"
   ]
  },
  {
   "cell_type": "code",
   "execution_count": 201,
   "metadata": {},
   "outputs": [],
   "source": [
    "TN_f = logistic_cx[0,0] # true positive \n",
    "TP_f = logistic_cx[1,1] # true negatives\n",
    "FP_f = logistic_cx[0,1] # false positives\n",
    "FN_f = logistic_cx[1,0] # false negatives"
   ]
  },
  {
   "cell_type": "code",
   "execution_count": 202,
   "metadata": {},
   "outputs": [
    {
     "name": "stdout",
     "output_type": "stream",
     "text": [
      "0.6512898075791951\n"
     ]
    }
   ],
   "source": [
    "accuracy_f = (TP_f+TN_f)/(TP_f+TN_f+FP_f+FN_f)\n",
    "print(accuracy_f)"
   ]
  },
  {
   "cell_type": "code",
   "execution_count": 203,
   "metadata": {},
   "outputs": [
    {
     "data": {
      "text/plain": [
       "0.3487101924208049"
      ]
     },
     "execution_count": 203,
     "metadata": {},
     "output_type": "execute_result"
    }
   ],
   "source": [
    "Misclassification_f  = 1-accuracy_f\n",
    "Misclassification_f"
   ]
  },
  {
   "cell_type": "code",
   "execution_count": 204,
   "metadata": {},
   "outputs": [
    {
     "name": "stdout",
     "output_type": "stream",
     "text": [
      "              precision    recall  f1-score   support\n",
      "\n",
      "           0       0.91      0.63      0.74     10799\n",
      "           1       0.09      0.36      0.14      1102\n",
      "\n",
      "   micro avg       0.60      0.60      0.60     11901\n",
      "   macro avg       0.50      0.49      0.44     11901\n",
      "weighted avg       0.83      0.60      0.69     11901\n",
      "\n"
     ]
    }
   ],
   "source": [
    "print(classification_report(y_test_1,p_f))"
   ]
  },
  {
   "cell_type": "markdown",
   "metadata": {},
   "source": [
    "# Decision tree (after feature elimination)"
   ]
  },
  {
   "cell_type": "code",
   "execution_count": 205,
   "metadata": {},
   "outputs": [],
   "source": [
    "tree = DecisionTreeClassifier()\n",
    "model_tr = tree.fit(x_train,y_train)\n",
    "pred_tr  = tree.predict(x_test)"
   ]
  },
  {
   "cell_type": "code",
   "execution_count": 206,
   "metadata": {},
   "outputs": [
    {
     "name": "stdout",
     "output_type": "stream",
     "text": [
      "0.04486626402070751\n"
     ]
    }
   ],
   "source": [
    "print(f1_score(y_test,pred_tr))"
   ]
  },
  {
   "cell_type": "code",
   "execution_count": 207,
   "metadata": {},
   "outputs": [
    {
     "data": {
      "text/plain": [
       "array([[10768,    31],\n",
       "       [ 1076,    26]], dtype=int64)"
      ]
     },
     "execution_count": 207,
     "metadata": {},
     "output_type": "execute_result"
    }
   ],
   "source": [
    "c_tree = metrics.confusion_matrix(y_test,pred_tr)\n",
    "c_tree"
   ]
  },
  {
   "cell_type": "markdown",
   "metadata": {},
   "source": [
    "# Random forest (after feature elimination)"
   ]
  },
  {
   "cell_type": "code",
   "execution_count": 208,
   "metadata": {},
   "outputs": [],
   "source": [
    "random = RandomForestClassifier()\n",
    "model_r = random.fit(x_train,y_train)\n",
    "pred_r  = random.predict(x_test)"
   ]
  },
  {
   "cell_type": "code",
   "execution_count": 209,
   "metadata": {},
   "outputs": [
    {
     "name": "stdout",
     "output_type": "stream",
     "text": [
      "0.05141388174807198\n"
     ]
    }
   ],
   "source": [
    "print(f1_score(y_test,pred_r))"
   ]
  },
  {
   "cell_type": "code",
   "execution_count": 211,
   "metadata": {},
   "outputs": [
    {
     "data": {
      "text/plain": [
       "array([[10764,    35],\n",
       "       [ 1072,    30]], dtype=int64)"
      ]
     },
     "execution_count": 211,
     "metadata": {},
     "output_type": "execute_result"
    }
   ],
   "source": [
    "rf_cx = metrics.confusion_matrix(y_test,pred_r)\n",
    "rf_cx"
   ]
  },
  {
   "cell_type": "markdown",
   "metadata": {},
   "source": [
    "# xg boosting"
   ]
  },
  {
   "cell_type": "code",
   "execution_count": 212,
   "metadata": {},
   "outputs": [],
   "source": [
    "# Apply XGBoost\n",
    "from xgboost import XGBClassifier\n",
    "xg = XGBClassifier(random_state=123)"
   ]
  },
  {
   "cell_type": "code",
   "execution_count": 213,
   "metadata": {},
   "outputs": [],
   "source": [
    "model_xg = xg.fit(x_train,y_train)\n",
    "pred_xg  = xg.predict(x_test)"
   ]
  },
  {
   "cell_type": "code",
   "execution_count": 214,
   "metadata": {},
   "outputs": [
    {
     "name": "stdout",
     "output_type": "stream",
     "text": [
      "0.04486626402070751\n"
     ]
    }
   ],
   "source": [
    "print(f1_score(y_test,pred_xg))"
   ]
  },
  {
   "cell_type": "code",
   "execution_count": 215,
   "metadata": {},
   "outputs": [
    {
     "data": {
      "text/plain": [
       "array([[10768,    31],\n",
       "       [ 1076,    26]], dtype=int64)"
      ]
     },
     "execution_count": 215,
     "metadata": {},
     "output_type": "execute_result"
    }
   ],
   "source": [
    "xg_cx = metrics.confusion_matrix(y_test,pred_xg)\n",
    "xg_cx"
   ]
  },
  {
   "cell_type": "markdown",
   "metadata": {},
   "source": [
    "# Random sampling (for a long tim no contact)"
   ]
  },
  {
   "cell_type": "code",
   "execution_count": 216,
   "metadata": {},
   "outputs": [
    {
     "data": {
      "text/plain": [
       "3673"
      ]
     },
     "execution_count": 216,
     "metadata": {},
     "output_type": "execute_result"
    }
   ],
   "source": [
    "subscribers = len(data_bank[data_bank['y_yes'] == 1])\n",
    "subscribers"
   ]
  },
  {
   "cell_type": "code",
   "execution_count": 217,
   "metadata": {},
   "outputs": [
    {
     "data": {
      "text/plain": [
       "Int64Index([    0,     1,     2,     3,     4,     5,     6,     7,     8,\n",
       "                9,\n",
       "            ...\n",
       "            41169, 41170, 41175, 41176, 41177, 41179, 41180, 41184, 41185,\n",
       "            41187],\n",
       "           dtype='int64', length=35997)"
      ]
     },
     "execution_count": 217,
     "metadata": {},
     "output_type": "execute_result"
    }
   ],
   "source": [
    "non_subscribers_indices = data_bank[data_bank.y_yes == 0].index\n",
    "non_subscribers_indices"
   ]
  },
  {
   "cell_type": "markdown",
   "metadata": {},
   "source": [
    "###  Random sample non subscribers indices"
   ]
  },
  {
   "cell_type": "code",
   "execution_count": 218,
   "metadata": {},
   "outputs": [],
   "source": [
    "random_indices = np.random.choice(non_subscribers_indices,subscribers, replace=False)"
   ]
  },
  {
   "cell_type": "code",
   "execution_count": 219,
   "metadata": {},
   "outputs": [],
   "source": [
    "subscribers_index = data_bank[data_bank.y_yes == 1].index"
   ]
  },
  {
   "cell_type": "markdown",
   "metadata": {},
   "source": [
    "### Concatenating the both"
   ]
  },
  {
   "cell_type": "code",
   "execution_count": 221,
   "metadata": {},
   "outputs": [],
   "source": [
    "under_sample_indices = np.concatenate([subscribers_index,random_indices])"
   ]
  },
  {
   "cell_type": "markdown",
   "metadata": {},
   "source": [
    "# Balancing the data"
   ]
  },
  {
   "cell_type": "code",
   "execution_count": 226,
   "metadata": {},
   "outputs": [],
   "source": [
    "under_sample = data_bank.loc[under_sample_indices]"
   ]
  },
  {
   "cell_type": "code",
   "execution_count": 227,
   "metadata": {},
   "outputs": [
    {
     "data": {
      "text/plain": [
       "(7346, 51)"
      ]
     },
     "execution_count": 227,
     "metadata": {},
     "output_type": "execute_result"
    }
   ],
   "source": [
    "under_sample.shape"
   ]
  },
  {
   "cell_type": "code",
   "execution_count": 228,
   "metadata": {},
   "outputs": [
    {
     "data": {
      "text/html": [
       "<div>\n",
       "<style scoped>\n",
       "    .dataframe tbody tr th:only-of-type {\n",
       "        vertical-align: middle;\n",
       "    }\n",
       "\n",
       "    .dataframe tbody tr th {\n",
       "        vertical-align: top;\n",
       "    }\n",
       "\n",
       "    .dataframe thead th {\n",
       "        text-align: right;\n",
       "    }\n",
       "</style>\n",
       "<table border=\"1\" class=\"dataframe\">\n",
       "  <thead>\n",
       "    <tr style=\"text-align: right;\">\n",
       "      <th></th>\n",
       "      <th>age</th>\n",
       "      <th>pdays</th>\n",
       "      <th>job_blue-collar</th>\n",
       "      <th>job_entrepreneur</th>\n",
       "      <th>job_housemaid</th>\n",
       "      <th>job_management</th>\n",
       "      <th>job_retired</th>\n",
       "      <th>job_self-employed</th>\n",
       "      <th>job_services</th>\n",
       "      <th>job_student</th>\n",
       "      <th>...</th>\n",
       "      <th>day_of_week_wed</th>\n",
       "      <th>poutcome_nonexistent</th>\n",
       "      <th>y_yes</th>\n",
       "      <th>campaign</th>\n",
       "      <th>previous</th>\n",
       "      <th>emp.var.rate</th>\n",
       "      <th>cons.price.idx</th>\n",
       "      <th>cons.conf.idx</th>\n",
       "      <th>euribor3m</th>\n",
       "      <th>nr.employed</th>\n",
       "    </tr>\n",
       "  </thead>\n",
       "  <tbody>\n",
       "    <tr>\n",
       "      <th>75</th>\n",
       "      <td>41</td>\n",
       "      <td>999</td>\n",
       "      <td>1</td>\n",
       "      <td>0</td>\n",
       "      <td>0</td>\n",
       "      <td>0</td>\n",
       "      <td>0</td>\n",
       "      <td>0</td>\n",
       "      <td>0</td>\n",
       "      <td>0</td>\n",
       "      <td>...</td>\n",
       "      <td>0</td>\n",
       "      <td>1</td>\n",
       "      <td>1</td>\n",
       "      <td>-0.5684</td>\n",
       "      <td>-0.318201</td>\n",
       "      <td>0.610223</td>\n",
       "      <td>0.721158</td>\n",
       "      <td>0.927173</td>\n",
       "      <td>0.673929</td>\n",
       "      <td>0.276926</td>\n",
       "    </tr>\n",
       "    <tr>\n",
       "      <th>83</th>\n",
       "      <td>49</td>\n",
       "      <td>999</td>\n",
       "      <td>0</td>\n",
       "      <td>1</td>\n",
       "      <td>0</td>\n",
       "      <td>0</td>\n",
       "      <td>0</td>\n",
       "      <td>0</td>\n",
       "      <td>0</td>\n",
       "      <td>0</td>\n",
       "      <td>...</td>\n",
       "      <td>0</td>\n",
       "      <td>1</td>\n",
       "      <td>1</td>\n",
       "      <td>-0.5684</td>\n",
       "      <td>-0.318201</td>\n",
       "      <td>0.610223</td>\n",
       "      <td>0.721158</td>\n",
       "      <td>0.927173</td>\n",
       "      <td>0.673929</td>\n",
       "      <td>0.276926</td>\n",
       "    </tr>\n",
       "    <tr>\n",
       "      <th>88</th>\n",
       "      <td>49</td>\n",
       "      <td>999</td>\n",
       "      <td>0</td>\n",
       "      <td>0</td>\n",
       "      <td>0</td>\n",
       "      <td>0</td>\n",
       "      <td>0</td>\n",
       "      <td>0</td>\n",
       "      <td>0</td>\n",
       "      <td>0</td>\n",
       "      <td>...</td>\n",
       "      <td>0</td>\n",
       "      <td>1</td>\n",
       "      <td>1</td>\n",
       "      <td>-0.5684</td>\n",
       "      <td>-0.318201</td>\n",
       "      <td>0.610223</td>\n",
       "      <td>0.721158</td>\n",
       "      <td>0.927173</td>\n",
       "      <td>0.673929</td>\n",
       "      <td>0.276926</td>\n",
       "    </tr>\n",
       "    <tr>\n",
       "      <th>129</th>\n",
       "      <td>41</td>\n",
       "      <td>999</td>\n",
       "      <td>0</td>\n",
       "      <td>0</td>\n",
       "      <td>0</td>\n",
       "      <td>0</td>\n",
       "      <td>0</td>\n",
       "      <td>0</td>\n",
       "      <td>0</td>\n",
       "      <td>0</td>\n",
       "      <td>...</td>\n",
       "      <td>0</td>\n",
       "      <td>1</td>\n",
       "      <td>1</td>\n",
       "      <td>-0.5684</td>\n",
       "      <td>-0.318201</td>\n",
       "      <td>0.610223</td>\n",
       "      <td>0.721158</td>\n",
       "      <td>0.927173</td>\n",
       "      <td>0.673929</td>\n",
       "      <td>0.276926</td>\n",
       "    </tr>\n",
       "    <tr>\n",
       "      <th>139</th>\n",
       "      <td>45</td>\n",
       "      <td>999</td>\n",
       "      <td>1</td>\n",
       "      <td>0</td>\n",
       "      <td>0</td>\n",
       "      <td>0</td>\n",
       "      <td>0</td>\n",
       "      <td>0</td>\n",
       "      <td>0</td>\n",
       "      <td>0</td>\n",
       "      <td>...</td>\n",
       "      <td>0</td>\n",
       "      <td>1</td>\n",
       "      <td>1</td>\n",
       "      <td>-0.5684</td>\n",
       "      <td>-0.318201</td>\n",
       "      <td>0.610223</td>\n",
       "      <td>0.721158</td>\n",
       "      <td>0.927173</td>\n",
       "      <td>0.673929</td>\n",
       "      <td>0.276926</td>\n",
       "    </tr>\n",
       "  </tbody>\n",
       "</table>\n",
       "<p>5 rows × 51 columns</p>\n",
       "</div>"
      ],
      "text/plain": [
       "     age  pdays  job_blue-collar  job_entrepreneur  job_housemaid  \\\n",
       "75    41    999                1                 0              0   \n",
       "83    49    999                0                 1              0   \n",
       "88    49    999                0                 0              0   \n",
       "129   41    999                0                 0              0   \n",
       "139   45    999                1                 0              0   \n",
       "\n",
       "     job_management  job_retired  job_self-employed  job_services  \\\n",
       "75                0            0                  0             0   \n",
       "83                0            0                  0             0   \n",
       "88                0            0                  0             0   \n",
       "129               0            0                  0             0   \n",
       "139               0            0                  0             0   \n",
       "\n",
       "     job_student     ...       day_of_week_wed  poutcome_nonexistent  y_yes  \\\n",
       "75             0     ...                     0                     1      1   \n",
       "83             0     ...                     0                     1      1   \n",
       "88             0     ...                     0                     1      1   \n",
       "129            0     ...                     0                     1      1   \n",
       "139            0     ...                     0                     1      1   \n",
       "\n",
       "     campaign  previous  emp.var.rate  cons.price.idx  cons.conf.idx  \\\n",
       "75    -0.5684 -0.318201      0.610223        0.721158       0.927173   \n",
       "83    -0.5684 -0.318201      0.610223        0.721158       0.927173   \n",
       "88    -0.5684 -0.318201      0.610223        0.721158       0.927173   \n",
       "129   -0.5684 -0.318201      0.610223        0.721158       0.927173   \n",
       "139   -0.5684 -0.318201      0.610223        0.721158       0.927173   \n",
       "\n",
       "     euribor3m  nr.employed  \n",
       "75    0.673929     0.276926  \n",
       "83    0.673929     0.276926  \n",
       "88    0.673929     0.276926  \n",
       "129   0.673929     0.276926  \n",
       "139   0.673929     0.276926  \n",
       "\n",
       "[5 rows x 51 columns]"
      ]
     },
     "execution_count": 228,
     "metadata": {},
     "output_type": "execute_result"
    }
   ],
   "source": [
    "under_sample.head()"
   ]
  },
  {
   "cell_type": "code",
   "execution_count": 229,
   "metadata": {},
   "outputs": [
    {
     "data": {
      "text/plain": [
       "1    3673\n",
       "0    3673\n",
       "Name: y_yes, dtype: int64"
      ]
     },
     "execution_count": 229,
     "metadata": {},
     "output_type": "execute_result"
    }
   ],
   "source": [
    "under_sample.y_yes.value_counts()"
   ]
  },
  {
   "cell_type": "markdown",
   "metadata": {},
   "source": [
    "# Model building"
   ]
  },
  {
   "cell_type": "code",
   "execution_count": 230,
   "metadata": {},
   "outputs": [],
   "source": [
    "X_under = under_sample.loc[:,under_sample.columns != 'y_yes']\n",
    "y_under = under_sample.loc[:,under_sample.columns == 'y_yes']"
   ]
  },
  {
   "cell_type": "code",
   "execution_count": 231,
   "metadata": {},
   "outputs": [],
   "source": [
    "X_under_train, X_under_test, y_under_train, y_under_test = train_test_split(X_under,y_under,test_size = 0.3, random_state = 123)\n"
   ]
  },
  {
   "cell_type": "markdown",
   "metadata": {},
   "source": [
    "# Logistic model"
   ]
  },
  {
   "cell_type": "code",
   "execution_count": 232,
   "metadata": {},
   "outputs": [],
   "source": [
    "lr_under = LogisticRegression()\n",
    "lr_under.fit(X_under_train,y_under_train)\n",
    "y_under_pred = lr_under.predict(X_under_test)"
   ]
  },
  {
   "cell_type": "code",
   "execution_count": 234,
   "metadata": {},
   "outputs": [
    {
     "name": "stdout",
     "output_type": "stream",
     "text": [
      "65.44715447154472\n"
     ]
    }
   ],
   "source": [
    "print(f1_score(y_under_test,y_under_pred)*100)"
   ]
  },
  {
   "cell_type": "code",
   "execution_count": 235,
   "metadata": {},
   "outputs": [
    {
     "data": {
      "text/plain": [
       "array([[880, 196],\n",
       "       [484, 644]], dtype=int64)"
      ]
     },
     "execution_count": 235,
     "metadata": {},
     "output_type": "execute_result"
    }
   ],
   "source": [
    "confusion_undersampling = metrics.confusion_matrix(y_under_test,y_under_pred)\n",
    "confusion_undersampling"
   ]
  },
  {
   "cell_type": "code",
   "execution_count": 238,
   "metadata": {},
   "outputs": [
    {
     "name": "stdout",
     "output_type": "stream",
     "text": [
      "57.09219858156028\n"
     ]
    }
   ],
   "source": [
    "print(recall_score(y_under_test,y_under_pred)*100)\n"
   ]
  },
  {
   "cell_type": "code",
   "execution_count": null,
   "metadata": {},
   "outputs": [],
   "source": []
  },
  {
   "cell_type": "code",
   "execution_count": 239,
   "metadata": {},
   "outputs": [
    {
     "name": "stdout",
     "output_type": "stream",
     "text": [
      "LogisticRegression(C=0.0001, class_weight=None, dual=False,\n",
      "          fit_intercept=True, intercept_scaling=1, max_iter=100,\n",
      "          multi_class='warn', n_jobs=None, penalty='l2', random_state=None,\n",
      "          solver='warn', tol=0.0001, verbose=0, warm_start=False)\n",
      "0.667237687366167\n"
     ]
    }
   ],
   "source": [
    "tuned_parameters = [{'C': [10**-4, 10**-2, 10**0, 10**2, 10**4,10**6]}]\n",
    "\n",
    "model_lr = GridSearchCV(LogisticRegression(), tuned_parameters, scoring = 'f1', cv=5)\n",
    "model_lr.fit(X_under, y_under)\n",
    "\n",
    "print(model_lr.best_estimator_)\n",
    "print(model_lr.score(X_under, y_under))"
   ]
  },
  {
   "cell_type": "code",
   "execution_count": 240,
   "metadata": {},
   "outputs": [],
   "source": [
    "lr= LogisticRegression(C=0.0001, penalty='l2')\n",
    "m = lr.fit(X_under, y_under)\n",
    "f = lr.predict(X_under_test)"
   ]
  },
  {
   "cell_type": "code",
   "execution_count": 241,
   "metadata": {},
   "outputs": [
    {
     "name": "stdout",
     "output_type": "stream",
     "text": [
      "66.79174484052533\n"
     ]
    }
   ],
   "source": [
    "print(f1_score(y_under_test,f)*100)"
   ]
  },
  {
   "cell_type": "code",
   "execution_count": 244,
   "metadata": {},
   "outputs": [
    {
     "data": {
      "text/plain": [
       "array([[784, 292],\n",
       "       [416, 712]], dtype=int64)"
      ]
     },
     "execution_count": 244,
     "metadata": {},
     "output_type": "execute_result"
    }
   ],
   "source": [
    "confusion_undersamp = metrics.confusion_matrix(y_under_test,f)\n",
    "confusion_undersamp"
   ]
  },
  {
   "cell_type": "code",
   "execution_count": 245,
   "metadata": {},
   "outputs": [],
   "source": [
    "TP_tree = confusion_undersamp[0,0] # true negative\n",
    "TN_tree = confusion_undersamp[1,1] # true postive\n",
    "FP_tree = confusion_undersamp[0,1] # false positives\n",
    "FN_tree = confusion_undersamp[1,0] # false negatives"
   ]
  },
  {
   "cell_type": "code",
   "execution_count": 246,
   "metadata": {},
   "outputs": [
    {
     "data": {
      "text/plain": [
       "0.6533333333333333"
      ]
     },
     "execution_count": 246,
     "metadata": {},
     "output_type": "execute_result"
    }
   ],
   "source": [
    "# Let's see the sensitivity of our tree model\n",
    "TP_tree / float(TP_tree+FN_tree)"
   ]
  },
  {
   "cell_type": "code",
   "execution_count": 247,
   "metadata": {},
   "outputs": [
    {
     "name": "stdout",
     "output_type": "stream",
     "text": [
      "0.2908366533864542\n"
     ]
    }
   ],
   "source": [
    "# Calculate false postive rate \n",
    "print(FP_tree/ float(TN_tree+FP_tree))"
   ]
  },
  {
   "cell_type": "code",
   "execution_count": 248,
   "metadata": {},
   "outputs": [
    {
     "name": "stdout",
     "output_type": "stream",
     "text": [
      "0.7286245353159851\n"
     ]
    }
   ],
   "source": [
    "# positive predictive value \n",
    "print (TP_tree / float(TP_tree+FP_tree))"
   ]
  },
  {
   "cell_type": "code",
   "execution_count": 251,
   "metadata": {},
   "outputs": [
    {
     "name": "stdout",
     "output_type": "stream",
     "text": [
      "0.6312056737588653\n"
     ]
    }
   ],
   "source": [
    "# Negative predictive value\n",
    "print (TN_tree / float(TN_tree+ FN_tree))"
   ]
  },
  {
   "cell_type": "code",
   "execution_count": 254,
   "metadata": {},
   "outputs": [],
   "source": [
    "def draw_roc( actual, probs ):\n",
    "    fpr, tpr, thresholds = metrics.roc_curve( actual, probs,\n",
    "                                              drop_intermediate = False )\n",
    "    auc_score = metrics.roc_auc_score( actual, probs )\n",
    "    plt.figure(figsize=(6, 4))\n",
    "    plt.plot( fpr, tpr, label='ROC curve (area = %0.2f)' % auc_score )\n",
    "    plt.plot([0, 1], [0, 1], 'k--')\n",
    "    plt.xlim([0.0, 1.0])\n",
    "    plt.ylim([0.0, 1.05])\n",
    "    plt.xlabel('False Positive Rate or [1 - True Negative Rate]')\n",
    "    plt.ylabel('True Positive Rate')\n",
    "    plt.title('Receiver operating characteristic example')\n",
    "    plt.legend(loc=\"lower right\")\n",
    "    plt.show()\n",
    "\n",
    "    return fpr, tpr, thresholds"
   ]
  },
  {
   "cell_type": "code",
   "execution_count": 256,
   "metadata": {},
   "outputs": [
    {
     "data": {
      "image/png": "[encoded data removed]",
      "text/plain": [
       "<Figure size 432x288 with 1 Axes>"
      ]
     },
     "metadata": {
      "needs_background": "light"
     },
     "output_type": "display_data"
    },
    {
     "data": {
      "text/plain": [
       "(array([0.        , 0.27137546, 1.        ]),\n",
       " array([0.        , 0.63120567, 1.        ]),\n",
       " array([2, 1, 0]))"
      ]
     },
     "execution_count": 256,
     "metadata": {},
     "output_type": "execute_result"
    }
   ],
   "source": [
    "draw_roc(y_under_test, f)"
   ]
  },
  {
   "cell_type": "code",
   "execution_count": 243,
   "metadata": {},
   "outputs": [
    {
     "name": "stdout",
     "output_type": "stream",
     "text": [
      "              precision    recall  f1-score   support\n",
      "\n",
      "           0       0.65      0.73      0.69      1076\n",
      "           1       0.71      0.63      0.67      1128\n",
      "\n",
      "   micro avg       0.68      0.68      0.68      2204\n",
      "   macro avg       0.68      0.68      0.68      2204\n",
      "weighted avg       0.68      0.68      0.68      2204\n",
      "\n"
     ]
    }
   ],
   "source": [
    "print(classification_report(y_under_test,f))"
   ]
  },
  {
   "cell_type": "markdown",
   "metadata": {},
   "source": [
    "# Decision tree model (after sampling)"
   ]
  },
  {
   "cell_type": "code",
   "execution_count": 257,
   "metadata": {},
   "outputs": [],
   "source": [
    "dec = DecisionTreeClassifier()\n",
    "dec.fit(X_under_train,y_under_train)\n",
    "y_dec_pred = dec.predict(X_under_test)"
   ]
  },
  {
   "cell_type": "code",
   "execution_count": 258,
   "metadata": {},
   "outputs": [
    {
     "name": "stdout",
     "output_type": "stream",
     "text": [
      "61.99556541019956\n"
     ]
    }
   ],
   "source": [
    "print(f1_score(y_under_test,y_dec_pred)*100)"
   ]
  },
  {
   "cell_type": "code",
   "execution_count": 260,
   "metadata": {},
   "outputs": [
    {
     "data": {
      "text/plain": [
       "array([[648, 428],\n",
       "       [429, 699]], dtype=int64)"
      ]
     },
     "execution_count": 260,
     "metadata": {},
     "output_type": "execute_result"
    }
   ],
   "source": [
    "confusion_tr = metrics.confusion_matrix(y_under_test,y_dec_pred)\n",
    "confusion_tr"
   ]
  },
  {
   "cell_type": "code",
   "execution_count": 261,
   "metadata": {},
   "outputs": [],
   "source": [
    "TP_tr = confusion_tr[0,0] # true negative\n",
    "TN_tr = confusion_tr[1,1] # true postive\n",
    "FP_tr = confusion_tr[0,1] # false positives\n",
    "FN_tr = confusion_tr[1,0] # false negatives"
   ]
  },
  {
   "cell_type": "code",
   "execution_count": 262,
   "metadata": {},
   "outputs": [
    {
     "data": {
      "text/plain": [
       "0.6016713091922006"
      ]
     },
     "execution_count": 262,
     "metadata": {},
     "output_type": "execute_result"
    }
   ],
   "source": [
    "# Let's see the sensitivity of our tree model\n",
    "TP_tr / float(TP_tr+FN_tr)"
   ]
  },
  {
   "cell_type": "code",
   "execution_count": 263,
   "metadata": {},
   "outputs": [
    {
     "name": "stdout",
     "output_type": "stream",
     "text": [
      "0.3797692990239574\n"
     ]
    }
   ],
   "source": [
    "# Calculate false postive rate \n",
    "print(FP_tr/ float(TN_tr+FP_tr))"
   ]
  },
  {
   "cell_type": "code",
   "execution_count": 264,
   "metadata": {},
   "outputs": [
    {
     "data": {
      "image/png": "[encoded data removed]",
      "text/plain": [
       "<Figure size 432x288 with 1 Axes>"
      ]
     },
     "metadata": {
      "needs_background": "light"
     },
     "output_type": "display_data"
    },
    {
     "data": {
      "text/plain": [
       "(array([0.        , 0.39776952, 1.        ]),\n",
       " array([0.        , 0.61968085, 1.        ]),\n",
       " array([2, 1, 0]))"
      ]
     },
     "execution_count": 264,
     "metadata": {},
     "output_type": "execute_result"
    }
   ],
   "source": [
    "draw_roc(y_under_test, y_dec_pred)"
   ]
  },
  {
   "cell_type": "markdown",
   "metadata": {},
   "source": [
    "# Random forest model"
   ]
  },
  {
   "cell_type": "code",
   "execution_count": 265,
   "metadata": {},
   "outputs": [],
   "source": [
    "rfmodel = RandomForestClassifier()\n",
    "rfmodel.fit(X_under_train,y_under_train)\n",
    "y_rf_pred = rfmodel.predict(X_under_test)"
   ]
  },
  {
   "cell_type": "code",
   "execution_count": 266,
   "metadata": {},
   "outputs": [
    {
     "data": {
      "text/plain": [
       "array([[823, 253],\n",
       "       [473, 655]], dtype=int64)"
      ]
     },
     "execution_count": 266,
     "metadata": {},
     "output_type": "execute_result"
    }
   ],
   "source": [
    "confusion_rf = metrics.confusion_matrix(y_under_test,y_rf_pred)\n",
    "confusion_rf"
   ]
  },
  {
   "cell_type": "code",
   "execution_count": 274,
   "metadata": {},
   "outputs": [
    {
     "name": "stdout",
     "output_type": "stream",
     "text": [
      "64.3418467583497\n"
     ]
    }
   ],
   "source": [
    "print(f1_score(y_under_test,y_rf_pred)*100)"
   ]
  },
  {
   "cell_type": "code",
   "execution_count": 268,
   "metadata": {},
   "outputs": [
    {
     "data": {
      "image/png": "[encoded data removed]",
      "text/plain": [
       "<Figure size 432x288 with 1 Axes>"
      ]
     },
     "metadata": {
      "needs_background": "light"
     },
     "output_type": "display_data"
    },
    {
     "data": {
      "text/plain": [
       "(array([0.        , 0.23513011, 1.        ]),\n",
       " array([0.        , 0.58067376, 1.        ]),\n",
       " array([2, 1, 0]))"
      ]
     },
     "execution_count": 268,
     "metadata": {},
     "output_type": "execute_result"
    }
   ],
   "source": [
    "draw_roc(y_under_test, y_rf_pred)"
   ]
  },
  {
   "cell_type": "markdown",
   "metadata": {},
   "source": [
    "# xgboosting"
   ]
  },
  {
   "cell_type": "code",
   "execution_count": 269,
   "metadata": {},
   "outputs": [],
   "source": [
    "model_xgb = xg.fit(X_under_train,y_under_train)\n",
    "pred_xgb  = xg.predict(X_under_test)"
   ]
  },
  {
   "cell_type": "code",
   "execution_count": 271,
   "metadata": {},
   "outputs": [
    {
     "name": "stdout",
     "output_type": "stream",
     "text": [
      "66.39344262295083\n"
     ]
    }
   ],
   "source": [
    "print(f1_score(y_under_test,pred_xgb)*100)"
   ]
  },
  {
   "cell_type": "code",
   "execution_count": 272,
   "metadata": {},
   "outputs": [
    {
     "data": {
      "text/plain": [
       "array([[900, 176],\n",
       "       [480, 648]], dtype=int64)"
      ]
     },
     "execution_count": 272,
     "metadata": {},
     "output_type": "execute_result"
    }
   ],
   "source": [
    "confusion_xgb = metrics.confusion_matrix(y_under_test,pred_xgb)\n",
    "confusion_xgb"
   ]
  },
  {
   "cell_type": "code",
   "execution_count": 273,
   "metadata": {},
   "outputs": [
    {
     "data": {
      "image/png": "[encoded data removed]",
      "text/plain": [
       "<Figure size 432x288 with 1 Axes>"
      ]
     },
     "metadata": {
      "needs_background": "light"
     },
     "output_type": "display_data"
    },
    {
     "data": {
      "text/plain": [
       "(array([0.        , 0.16356877, 1.        ]),\n",
       " array([0.        , 0.57446809, 1.        ]),\n",
       " array([2, 1, 0]))"
      ]
     },
     "execution_count": 273,
     "metadata": {},
     "output_type": "execute_result"
    }
   ],
   "source": [
    "draw_roc(y_under_test, pred_xgb)"
   ]
  },
  {
   "cell_type": "markdown",
   "metadata": {},
   "source": [
    "# SUMMARY"
   ]
  },
  {
   "cell_type": "markdown",
   "metadata": {},
   "source": [
    "### Base model result (after under sampling)\n",
    " \n",
    "##                                   F1 SCORES          \n",
    "\n",
    "### Logistic regression   -  65.44715447154472                                             \n",
    "\n",
    "### Decision tree              -  61.99556541019956\n",
    " \n",
    "### Random forest           -  64.3418467583497\n",
    "\n",
    "### xgboosting                 -  66.39344262295083"
   ]
  },
  {
   "cell_type": "code",
   "execution_count": null,
   "metadata": {},
   "outputs": [],
   "source": []
  },
  {
   "cell_type": "markdown",
   "metadata": {},
   "source": [
    "### Base model result (after under sampling)\n",
    " \n",
    "##                                   F1 SCORES (After tuning)\n",
    "\n",
    "### Logistic regression   -   66.79174484052533\n",
    "\n",
    "### Decision tree              -  \n",
    " \n",
    "### Random forest           -  \n",
    "\n",
    "### xgboosting                 -  "
   ]
  },
  {
   "cell_type": "markdown",
   "metadata": {},
   "source": [
    "###                    ---------------------------------------------------------------------------------------------------- -------------------------------------   ###"
   ]
  },
  {
   "cell_type": "markdown",
   "metadata": {},
   "source": [
    "# The most recent contacts"
   ]
  },
  {
   "cell_type": "code",
   "execution_count": 105,
   "metadata": {},
   "outputs": [
    {
     "data": {
      "text/html": [
       "<div>\n",
       "<style scoped>\n",
       "    .dataframe tbody tr th:only-of-type {\n",
       "        vertical-align: middle;\n",
       "    }\n",
       "\n",
       "    .dataframe tbody tr th {\n",
       "        vertical-align: top;\n",
       "    }\n",
       "\n",
       "    .dataframe thead th {\n",
       "        text-align: right;\n",
       "    }\n",
       "</style>\n",
       "<table border=\"1\" class=\"dataframe\">\n",
       "  <thead>\n",
       "    <tr style=\"text-align: right;\">\n",
       "      <th></th>\n",
       "      <th>age</th>\n",
       "      <th>job</th>\n",
       "      <th>marital</th>\n",
       "      <th>education</th>\n",
       "      <th>default</th>\n",
       "      <th>housing</th>\n",
       "      <th>loan</th>\n",
       "      <th>contact</th>\n",
       "      <th>month</th>\n",
       "      <th>day_of_week</th>\n",
       "      <th>campaign</th>\n",
       "      <th>pdays</th>\n",
       "      <th>previous</th>\n",
       "      <th>poutcome</th>\n",
       "      <th>emp.var.rate</th>\n",
       "      <th>cons.price.idx</th>\n",
       "      <th>cons.conf.idx</th>\n",
       "      <th>euribor3m</th>\n",
       "      <th>nr.employed</th>\n",
       "      <th>y</th>\n",
       "    </tr>\n",
       "  </thead>\n",
       "  <tbody>\n",
       "    <tr>\n",
       "      <th>24108</th>\n",
       "      <td>37</td>\n",
       "      <td>admin.</td>\n",
       "      <td>married</td>\n",
       "      <td>university.degree</td>\n",
       "      <td>no</td>\n",
       "      <td>yes</td>\n",
       "      <td>no</td>\n",
       "      <td>telephone</td>\n",
       "      <td>nov</td>\n",
       "      <td>wed</td>\n",
       "      <td>1</td>\n",
       "      <td>6</td>\n",
       "      <td>1</td>\n",
       "      <td>success</td>\n",
       "      <td>-0.1</td>\n",
       "      <td>93.2</td>\n",
       "      <td>-42.0</td>\n",
       "      <td>4.286</td>\n",
       "      <td>5195.8</td>\n",
       "      <td>no</td>\n",
       "    </tr>\n",
       "    <tr>\n",
       "      <th>24264</th>\n",
       "      <td>48</td>\n",
       "      <td>management</td>\n",
       "      <td>married</td>\n",
       "      <td>university.degree</td>\n",
       "      <td>no</td>\n",
       "      <td>yes</td>\n",
       "      <td>no</td>\n",
       "      <td>cellular</td>\n",
       "      <td>nov</td>\n",
       "      <td>mon</td>\n",
       "      <td>1</td>\n",
       "      <td>4</td>\n",
       "      <td>1</td>\n",
       "      <td>success</td>\n",
       "      <td>-0.1</td>\n",
       "      <td>93.2</td>\n",
       "      <td>-42.0</td>\n",
       "      <td>4.191</td>\n",
       "      <td>5195.8</td>\n",
       "      <td>no</td>\n",
       "    </tr>\n",
       "    <tr>\n",
       "      <th>24279</th>\n",
       "      <td>42</td>\n",
       "      <td>technician</td>\n",
       "      <td>married</td>\n",
       "      <td>professional.course</td>\n",
       "      <td>unknown</td>\n",
       "      <td>yes</td>\n",
       "      <td>no</td>\n",
       "      <td>cellular</td>\n",
       "      <td>nov</td>\n",
       "      <td>mon</td>\n",
       "      <td>1</td>\n",
       "      <td>4</td>\n",
       "      <td>1</td>\n",
       "      <td>success</td>\n",
       "      <td>-0.1</td>\n",
       "      <td>93.2</td>\n",
       "      <td>-42.0</td>\n",
       "      <td>4.191</td>\n",
       "      <td>5195.8</td>\n",
       "      <td>no</td>\n",
       "    </tr>\n",
       "    <tr>\n",
       "      <th>24397</th>\n",
       "      <td>50</td>\n",
       "      <td>entrepreneur</td>\n",
       "      <td>married</td>\n",
       "      <td>university.degree</td>\n",
       "      <td>unknown</td>\n",
       "      <td>yes</td>\n",
       "      <td>no</td>\n",
       "      <td>cellular</td>\n",
       "      <td>nov</td>\n",
       "      <td>mon</td>\n",
       "      <td>1</td>\n",
       "      <td>3</td>\n",
       "      <td>1</td>\n",
       "      <td>success</td>\n",
       "      <td>-0.1</td>\n",
       "      <td>93.2</td>\n",
       "      <td>-42.0</td>\n",
       "      <td>4.191</td>\n",
       "      <td>5195.8</td>\n",
       "      <td>no</td>\n",
       "    </tr>\n",
       "    <tr>\n",
       "      <th>24482</th>\n",
       "      <td>36</td>\n",
       "      <td>self-employed</td>\n",
       "      <td>single</td>\n",
       "      <td>university.degree</td>\n",
       "      <td>no</td>\n",
       "      <td>yes</td>\n",
       "      <td>no</td>\n",
       "      <td>cellular</td>\n",
       "      <td>nov</td>\n",
       "      <td>mon</td>\n",
       "      <td>2</td>\n",
       "      <td>4</td>\n",
       "      <td>1</td>\n",
       "      <td>success</td>\n",
       "      <td>-0.1</td>\n",
       "      <td>93.2</td>\n",
       "      <td>-42.0</td>\n",
       "      <td>4.191</td>\n",
       "      <td>5195.8</td>\n",
       "      <td>no</td>\n",
       "    </tr>\n",
       "  </tbody>\n",
       "</table>\n",
       "</div>"
      ],
      "text/plain": [
       "       age            job  marital            education  default housing loan  \\\n",
       "24108   37         admin.  married    university.degree       no     yes   no   \n",
       "24264   48     management  married    university.degree       no     yes   no   \n",
       "24279   42     technician  married  professional.course  unknown     yes   no   \n",
       "24397   50   entrepreneur  married    university.degree  unknown     yes   no   \n",
       "24482   36  self-employed   single    university.degree       no     yes   no   \n",
       "\n",
       "         contact month day_of_week  campaign  pdays  previous poutcome  \\\n",
       "24108  telephone   nov         wed         1      6         1  success   \n",
       "24264   cellular   nov         mon         1      4         1  success   \n",
       "24279   cellular   nov         mon         1      4         1  success   \n",
       "24397   cellular   nov         mon         1      3         1  success   \n",
       "24482   cellular   nov         mon         2      4         1  success   \n",
       "\n",
       "       emp.var.rate  cons.price.idx  cons.conf.idx  euribor3m  nr.employed   y  \n",
       "24108          -0.1            93.2          -42.0      4.286       5195.8  no  \n",
       "24264          -0.1            93.2          -42.0      4.191       5195.8  no  \n",
       "24279          -0.1            93.2          -42.0      4.191       5195.8  no  \n",
       "24397          -0.1            93.2          -42.0      4.191       5195.8  no  \n",
       "24482          -0.1            93.2          -42.0      4.191       5195.8  no  "
      ]
     },
     "execution_count": 105,
     "metadata": {},
     "output_type": "execute_result"
    }
   ],
   "source": [
    "df_remaining = data[data['pdays'] != 999]\n",
    "df_remaining.head()"
   ]
  },
  {
   "cell_type": "code",
   "execution_count": 106,
   "metadata": {},
   "outputs": [
    {
     "data": {
      "text/plain": [
       "(1515, 20)"
      ]
     },
     "execution_count": 106,
     "metadata": {},
     "output_type": "execute_result"
    }
   ],
   "source": [
    "df_remaining.shape"
   ]
  },
  {
   "cell_type": "markdown",
   "metadata": {},
   "source": [
    "39673 people were not cantacted (999)\n",
    "\n",
    "1515 people were contacted frequent intervals (non 999)"
   ]
  },
  {
   "cell_type": "code",
   "execution_count": 108,
   "metadata": {},
   "outputs": [
    {
     "data": {
      "text/plain": [
       "success    1373\n",
       "failure     142\n",
       "Name: poutcome, dtype: int64"
      ]
     },
     "execution_count": 108,
     "metadata": {},
     "output_type": "execute_result"
    }
   ],
   "source": [
    "df_remaining['poutcome'].value_counts()"
   ]
  },
  {
   "cell_type": "markdown",
   "metadata": {},
   "source": [
    "Failure rate is less for group for people who were contacted recently."
   ]
  },
  {
   "cell_type": "code",
   "execution_count": 109,
   "metadata": {},
   "outputs": [
    {
     "data": {
      "text/plain": [
       "yes    967\n",
       "no     548\n",
       "Name: y, dtype: int64"
      ]
     },
     "execution_count": 109,
     "metadata": {},
     "output_type": "execute_result"
    }
   ],
   "source": [
    "df_remaining['y'].value_counts()"
   ]
  },
  {
   "cell_type": "markdown",
   "metadata": {},
   "source": [
    "# For people whom the days passed by is less, the success rate is higher than failure rate"
   ]
  },
  {
   "cell_type": "code",
   "execution_count": 110,
   "metadata": {},
   "outputs": [
    {
     "data": {
      "image/png": "[encoded data removed]",
      "text/plain": [
       "<Figure size 1152x1080 with 9 Axes>"
      ]
     },
     "metadata": {
      "needs_background": "light"
     },
     "output_type": "display_data"
    }
   ],
   "source": [
    "fig , axes = plt.subplots(3,3,figsize =(16,15))\n",
    "sns.boxplot(df_remaining['age'],ax = axes[0,0])\n",
    "sns.boxplot(df_remaining['campaign'],ax = axes[0,1])\n",
    "sns.boxplot(df_remaining['pdays'],ax = axes[0,2])\n",
    "sns.boxplot(df_remaining['previous'],ax = axes[1,0])\n",
    "sns.boxplot(df_remaining['emp.var.rate'],ax = axes[1,1])\n",
    "sns.boxplot(df_remaining['cons.price.idx'],ax = axes[1,2])\n",
    "sns.boxplot(df_remaining['cons.conf.idx'],ax = axes[2,0])\n",
    "sns.boxplot(df_remaining['euribor3m'],ax = axes[2,1])\n",
    "sns.boxplot(df_remaining['nr.employed'],ax = axes[2,2])\n",
    "plt.show()"
   ]
  },
  {
   "cell_type": "code",
   "execution_count": 111,
   "metadata": {},
   "outputs": [
    {
     "data": {
      "text/html": [
       "<div>\n",
       "<style scoped>\n",
       "    .dataframe tbody tr th:only-of-type {\n",
       "        vertical-align: middle;\n",
       "    }\n",
       "\n",
       "    .dataframe tbody tr th {\n",
       "        vertical-align: top;\n",
       "    }\n",
       "\n",
       "    .dataframe thead th {\n",
       "        text-align: right;\n",
       "    }\n",
       "</style>\n",
       "<table border=\"1\" class=\"dataframe\">\n",
       "  <thead>\n",
       "    <tr style=\"text-align: right;\">\n",
       "      <th>y</th>\n",
       "      <th>no</th>\n",
       "      <th>yes</th>\n",
       "    </tr>\n",
       "    <tr>\n",
       "      <th>default</th>\n",
       "      <th></th>\n",
       "      <th></th>\n",
       "    </tr>\n",
       "  </thead>\n",
       "  <tbody>\n",
       "    <tr>\n",
       "      <th>no</th>\n",
       "      <td>514</td>\n",
       "      <td>937</td>\n",
       "    </tr>\n",
       "    <tr>\n",
       "      <th>unknown</th>\n",
       "      <td>34</td>\n",
       "      <td>30</td>\n",
       "    </tr>\n",
       "  </tbody>\n",
       "</table>\n",
       "</div>"
      ],
      "text/plain": [
       "y         no  yes\n",
       "default          \n",
       "no       514  937\n",
       "unknown   34   30"
      ]
     },
     "execution_count": 111,
     "metadata": {},
     "output_type": "execute_result"
    }
   ],
   "source": [
    "e = pd.crosstab(df_remaining['default'],df_remaining['y'])\n",
    "e"
   ]
  },
  {
   "cell_type": "code",
   "execution_count": 112,
   "metadata": {},
   "outputs": [],
   "source": [
    "new_copy = df_remaining.copy()"
   ]
  },
  {
   "cell_type": "code",
   "execution_count": 113,
   "metadata": {},
   "outputs": [
    {
     "data": {
      "text/plain": [
       "(1515, 20)"
      ]
     },
     "execution_count": 113,
     "metadata": {},
     "output_type": "execute_result"
    }
   ],
   "source": [
    "new_copy.shape"
   ]
  },
  {
   "cell_type": "code",
   "execution_count": 114,
   "metadata": {},
   "outputs": [
    {
     "data": {
      "text/plain": [
       "(1515, 51)"
      ]
     },
     "execution_count": 114,
     "metadata": {},
     "output_type": "execute_result"
    }
   ],
   "source": [
    "new = pd.get_dummies(new_copy,drop_first=True)\n",
    "new.shape"
   ]
  },
  {
   "cell_type": "code",
   "execution_count": 115,
   "metadata": {},
   "outputs": [
    {
     "name": "stdout",
     "output_type": "stream",
     "text": [
      "<class 'pandas.core.frame.DataFrame'>\n",
      "Int64Index: 1515 entries, 24108 to 41182\n",
      "Data columns (total 51 columns):\n",
      "age                              1515 non-null int64\n",
      "campaign                         1515 non-null int64\n",
      "pdays                            1515 non-null int64\n",
      "previous                         1515 non-null int64\n",
      "emp.var.rate                     1515 non-null float64\n",
      "cons.price.idx                   1515 non-null float64\n",
      "cons.conf.idx                    1515 non-null float64\n",
      "euribor3m                        1515 non-null float64\n",
      "nr.employed                      1515 non-null float64\n",
      "job_blue-collar                  1515 non-null uint8\n",
      "job_entrepreneur                 1515 non-null uint8\n",
      "job_housemaid                    1515 non-null uint8\n",
      "job_management                   1515 non-null uint8\n",
      "job_retired                      1515 non-null uint8\n",
      "job_self-employed                1515 non-null uint8\n",
      "job_services                     1515 non-null uint8\n",
      "job_student                      1515 non-null uint8\n",
      "job_technician                   1515 non-null uint8\n",
      "job_unemployed                   1515 non-null uint8\n",
      "job_unknown                      1515 non-null uint8\n",
      "marital_married                  1515 non-null uint8\n",
      "marital_single                   1515 non-null uint8\n",
      "marital_unknown                  1515 non-null uint8\n",
      "education_basic.6y               1515 non-null uint8\n",
      "education_basic.9y               1515 non-null uint8\n",
      "education_high.school            1515 non-null uint8\n",
      "education_illiterate             1515 non-null uint8\n",
      "education_professional.course    1515 non-null uint8\n",
      "education_university.degree      1515 non-null uint8\n",
      "education_unknown                1515 non-null uint8\n",
      "default_unknown                  1515 non-null uint8\n",
      "housing_unknown                  1515 non-null uint8\n",
      "housing_yes                      1515 non-null uint8\n",
      "loan_unknown                     1515 non-null uint8\n",
      "loan_yes                         1515 non-null uint8\n",
      "contact_telephone                1515 non-null uint8\n",
      "month_aug                        1515 non-null uint8\n",
      "month_dec                        1515 non-null uint8\n",
      "month_jul                        1515 non-null uint8\n",
      "month_jun                        1515 non-null uint8\n",
      "month_mar                        1515 non-null uint8\n",
      "month_may                        1515 non-null uint8\n",
      "month_nov                        1515 non-null uint8\n",
      "month_oct                        1515 non-null uint8\n",
      "month_sep                        1515 non-null uint8\n",
      "day_of_week_mon                  1515 non-null uint8\n",
      "day_of_week_thu                  1515 non-null uint8\n",
      "day_of_week_tue                  1515 non-null uint8\n",
      "day_of_week_wed                  1515 non-null uint8\n",
      "poutcome_success                 1515 non-null uint8\n",
      "y_yes                            1515 non-null uint8\n",
      "dtypes: float64(5), int64(4), uint8(42)\n",
      "memory usage: 180.5 KB\n"
     ]
    }
   ],
   "source": [
    "new.info()"
   ]
  },
  {
   "cell_type": "markdown",
   "metadata": {},
   "source": [
    "# x and y"
   ]
  },
  {
   "cell_type": "code",
   "execution_count": 116,
   "metadata": {},
   "outputs": [],
   "source": [
    "x = new.drop('y_yes',1)\n",
    "y = new['y_yes']"
   ]
  },
  {
   "cell_type": "markdown",
   "metadata": {},
   "source": [
    "# model fitting"
   ]
  },
  {
   "cell_type": "code",
   "execution_count": 117,
   "metadata": {},
   "outputs": [],
   "source": [
    "x_train_new, x_test_new, y_train_new, y_test_new = train_test_split(x,y,train_size=0.7,test_size=0.3,random_state=100,stratify=y)"
   ]
  },
  {
   "cell_type": "code",
   "execution_count": 118,
   "metadata": {},
   "outputs": [
    {
     "data": {
      "text/plain": [
       "(1060, 50)"
      ]
     },
     "execution_count": 118,
     "metadata": {},
     "output_type": "execute_result"
    }
   ],
   "source": [
    "x_train_new.shape"
   ]
  },
  {
   "cell_type": "code",
   "execution_count": 119,
   "metadata": {},
   "outputs": [
    {
     "data": {
      "text/plain": [
       "(455, 50)"
      ]
     },
     "execution_count": 119,
     "metadata": {},
     "output_type": "execute_result"
    }
   ],
   "source": [
    "x_test_new.shape"
   ]
  },
  {
   "cell_type": "code",
   "execution_count": 120,
   "metadata": {},
   "outputs": [],
   "source": [
    "log = LogisticRegression()\n",
    "m_log = lo.fit(x_train_new,y_train_new)\n",
    "p_log = lo.predict(x_test_new)"
   ]
  },
  {
   "cell_type": "code",
   "execution_count": 121,
   "metadata": {},
   "outputs": [
    {
     "name": "stdout",
     "output_type": "stream",
     "text": [
      "0.7751937984496124\n"
     ]
    }
   ],
   "source": [
    "print(f1_score(y_test_new,p_log))"
   ]
  },
  {
   "cell_type": "code",
   "execution_count": 122,
   "metadata": {},
   "outputs": [
    {
     "data": {
      "text/plain": [
       "array([[ 60, 105],\n",
       "       [ 40, 250]], dtype=int64)"
      ]
     },
     "execution_count": 122,
     "metadata": {},
     "output_type": "execute_result"
    }
   ],
   "source": [
    "log_cmx = metrics.confusion_matrix(y_test_new,p_log)\n",
    "log_cmx"
   ]
  },
  {
   "cell_type": "code",
   "execution_count": 123,
   "metadata": {},
   "outputs": [
    {
     "data": {
      "text/plain": [
       "0.38095238095238093"
      ]
     },
     "execution_count": 123,
     "metadata": {},
     "output_type": "execute_result"
    }
   ],
   "source": [
    "40/105"
   ]
  },
  {
   "cell_type": "code",
   "execution_count": 124,
   "metadata": {},
   "outputs": [],
   "source": [
    "TN_log= log_cmx[0,0] # true negative\n",
    "TP_log = log_cmx[1,1] # true postive\n",
    "FP_log = log_cmx[0,1] # false positives\n",
    "FN_log = log_cmx[1,0] # false negatives"
   ]
  },
  {
   "cell_type": "code",
   "execution_count": 125,
   "metadata": {},
   "outputs": [
    {
     "name": "stdout",
     "output_type": "stream",
     "text": [
      "0.6813186813186813\n"
     ]
    }
   ],
   "source": [
    "accuracy_final = (TP_log+TN_log)/(TP_log+TN_log+FP_log+FN_log)\n",
    "print(accuracy_final)"
   ]
  },
  {
   "cell_type": "code",
   "execution_count": 126,
   "metadata": {},
   "outputs": [
    {
     "data": {
      "text/plain": [
       "0.31868131868131866"
      ]
     },
     "execution_count": 126,
     "metadata": {},
     "output_type": "execute_result"
    }
   ],
   "source": [
    "missclassify = 1-accuracy_final\n",
    "missclassify"
   ]
  },
  {
   "cell_type": "code",
   "execution_count": 127,
   "metadata": {},
   "outputs": [
    {
     "name": "stdout",
     "output_type": "stream",
     "text": [
      "              precision    recall  f1-score   support\n",
      "\n",
      "           0       0.60      0.36      0.45       165\n",
      "           1       0.70      0.86      0.78       290\n",
      "\n",
      "   micro avg       0.68      0.68      0.68       455\n",
      "   macro avg       0.65      0.61      0.61       455\n",
      "weighted avg       0.67      0.68      0.66       455\n",
      "\n"
     ]
    }
   ],
   "source": [
    "print(classification_report(y_test_new,p_log))"
   ]
  },
  {
   "cell_type": "markdown",
   "metadata": {},
   "source": [
    "# auc and roc"
   ]
  },
  {
   "cell_type": "code",
   "execution_count": 128,
   "metadata": {},
   "outputs": [],
   "source": [
    "def draw_roc( actual, probs ):\n",
    "    fpr, tpr, thresholds = metrics.roc_curve( actual, probs,\n",
    "                                              drop_intermediate = False )\n",
    "    auc_score = metrics.roc_auc_score( actual, probs )\n",
    "    plt.figure(figsize=(6, 4))\n",
    "    plt.plot( fpr, tpr, label='ROC curve (area = %0.2f)' % auc_score )\n",
    "    plt.plot([0, 1], [0, 1], 'k--')\n",
    "    plt.xlim([0.0, 1.0])\n",
    "    plt.ylim([0.0, 1.05])\n",
    "    plt.xlabel('False Positive Rate or [1 - True Negative Rate]')\n",
    "    plt.ylabel('True Positive Rate')\n",
    "    plt.title('Receiver operating characteristic example')\n",
    "    plt.legend(loc=\"lower right\")\n",
    "    plt.show()\n",
    "\n",
    "    return fpr, tpr, thresholds"
   ]
  },
  {
   "cell_type": "code",
   "execution_count": 129,
   "metadata": {},
   "outputs": [
    {
     "data": {
      "image/png": "[encoded data removed]",
      "text/plain": [
       "<Figure size 432x288 with 1 Axes>"
      ]
     },
     "metadata": {
      "needs_background": "light"
     },
     "output_type": "display_data"
    },
    {
     "data": {
      "text/plain": [
       "(array([0.        , 0.63636364, 1.        ]),\n",
       " array([0.        , 0.86206897, 1.        ]),\n",
       " array([2, 1, 0]))"
      ]
     },
     "execution_count": 129,
     "metadata": {},
     "output_type": "execute_result"
    }
   ],
   "source": [
    "draw_roc(y_test_new, p_log)"
   ]
  },
  {
   "cell_type": "markdown",
   "metadata": {},
   "source": [
    "# Decision tree"
   ]
  },
  {
   "cell_type": "code",
   "execution_count": 130,
   "metadata": {},
   "outputs": [],
   "source": [
    "tree = DecisionTreeClassifier()\n",
    "model_tre_f = tree.fit(x_train_new,y_train_new)\n",
    "pred_tree_f  = tree.predict(x_test_new)"
   ]
  },
  {
   "cell_type": "code",
   "execution_count": 131,
   "metadata": {},
   "outputs": [
    {
     "name": "stdout",
     "output_type": "stream",
     "text": [
      "0.68760907504363\n"
     ]
    }
   ],
   "source": [
    "print(f1_score(y_test_new,pred_tree_f))"
   ]
  },
  {
   "cell_type": "code",
   "execution_count": 132,
   "metadata": {},
   "outputs": [
    {
     "data": {
      "text/plain": [
       "array([[ 79,  86],\n",
       "       [ 93, 197]], dtype=int64)"
      ]
     },
     "execution_count": 132,
     "metadata": {},
     "output_type": "execute_result"
    }
   ],
   "source": [
    "confusion_tree_ = metrics.confusion_matrix(y_test_new,pred_tree_f)\n",
    "confusion_tree_"
   ]
  },
  {
   "cell_type": "code",
   "execution_count": 133,
   "metadata": {},
   "outputs": [],
   "source": [
    "TN_tree= confusion_tree_[0,0] # true negative\n",
    "TP_tree = confusion_tree_[1,1] # true postive\n",
    "FP_tree = confusion_tree_[0,1] # false positives\n",
    "FN_tree = confusion_tree_[1,0] # false negatives"
   ]
  },
  {
   "cell_type": "code",
   "execution_count": 134,
   "metadata": {},
   "outputs": [
    {
     "name": "stdout",
     "output_type": "stream",
     "text": [
      "0.6065934065934065\n"
     ]
    }
   ],
   "source": [
    "accuracy_final_tree = (TP_tree+TN_tree)/(TP_tree+TN_tree+FP_tree+FN_tree)\n",
    "print(accuracy_final_tree)"
   ]
  },
  {
   "cell_type": "code",
   "execution_count": 135,
   "metadata": {},
   "outputs": [
    {
     "data": {
      "text/plain": [
       "0.39340659340659345"
      ]
     },
     "execution_count": 135,
     "metadata": {},
     "output_type": "execute_result"
    }
   ],
   "source": [
    "missclassify_tree = 1-accuracy_final_tree\n",
    "missclassify_tree"
   ]
  },
  {
   "cell_type": "code",
   "execution_count": 136,
   "metadata": {},
   "outputs": [
    {
     "name": "stdout",
     "output_type": "stream",
     "text": [
      "              precision    recall  f1-score   support\n",
      "\n",
      "           0       0.46      0.48      0.47       165\n",
      "           1       0.70      0.68      0.69       290\n",
      "\n",
      "   micro avg       0.61      0.61      0.61       455\n",
      "   macro avg       0.58      0.58      0.58       455\n",
      "weighted avg       0.61      0.61      0.61       455\n",
      "\n"
     ]
    }
   ],
   "source": [
    "print(classification_report(y_test_new,pred_tree_f))"
   ]
  },
  {
   "cell_type": "code",
   "execution_count": 137,
   "metadata": {},
   "outputs": [
    {
     "data": {
      "image/png": "[encoded data removed]",
      "text/plain": [
       "<Figure size 432x288 with 1 Axes>"
      ]
     },
     "metadata": {
      "needs_background": "light"
     },
     "output_type": "display_data"
    },
    {
     "data": {
      "text/plain": [
       "(array([0.        , 0.52121212, 1.        ]),\n",
       " array([0.        , 0.67931034, 1.        ]),\n",
       " array([2, 1, 0]))"
      ]
     },
     "execution_count": 137,
     "metadata": {},
     "output_type": "execute_result"
    }
   ],
   "source": [
    "draw_roc(y_test_new, pred_tree_f)"
   ]
  },
  {
   "cell_type": "markdown",
   "metadata": {},
   "source": [
    "# random forest  "
   ]
  },
  {
   "cell_type": "code",
   "execution_count": 138,
   "metadata": {},
   "outputs": [],
   "source": [
    "random = RandomForestClassifier()\n",
    "model_rf_f = random.fit(x_train_new,y_train_new)\n",
    "pred_rf_f  = random.predict(x_test_new)"
   ]
  },
  {
   "cell_type": "code",
   "execution_count": 139,
   "metadata": {},
   "outputs": [
    {
     "name": "stdout",
     "output_type": "stream",
     "text": [
      "0.7160068846815835\n"
     ]
    }
   ],
   "source": [
    "print(f1_score(y_test_new,pred_rf_f))"
   ]
  },
  {
   "cell_type": "code",
   "execution_count": 140,
   "metadata": {},
   "outputs": [
    {
     "data": {
      "text/plain": [
       "array([[ 82,  83],\n",
       "       [ 82, 208]], dtype=int64)"
      ]
     },
     "execution_count": 140,
     "metadata": {},
     "output_type": "execute_result"
    }
   ],
   "source": [
    "confusion_rf_ = metrics.confusion_matrix(y_test_new,pred_rf_f)\n",
    "confusion_rf_"
   ]
  },
  {
   "cell_type": "code",
   "execution_count": 141,
   "metadata": {},
   "outputs": [],
   "source": [
    "TN_rf= confusion_rf_[0,0] # true negative\n",
    "TP_rf = confusion_rf_[1,1] # true postive\n",
    "FP_rf = confusion_rf_[0,1] # false positives\n",
    "FN_rf = confusion_rf_[1,0] # false negatives"
   ]
  },
  {
   "cell_type": "code",
   "execution_count": 142,
   "metadata": {},
   "outputs": [
    {
     "name": "stdout",
     "output_type": "stream",
     "text": [
      "0.6373626373626373\n"
     ]
    }
   ],
   "source": [
    "accuracy_final_rf = (TP_rf+TN_rf)/(TP_rf+TN_rf+FP_rf+FN_rf)\n",
    "print(accuracy_final_rf)"
   ]
  },
  {
   "cell_type": "code",
   "execution_count": 143,
   "metadata": {},
   "outputs": [
    {
     "data": {
      "text/plain": [
       "0.3626373626373627"
      ]
     },
     "execution_count": 143,
     "metadata": {},
     "output_type": "execute_result"
    }
   ],
   "source": [
    "missclassify_rf = 1-accuracy_final_rf\n",
    "missclassify_rf"
   ]
  },
  {
   "cell_type": "code",
   "execution_count": 144,
   "metadata": {},
   "outputs": [
    {
     "name": "stdout",
     "output_type": "stream",
     "text": [
      "              precision    recall  f1-score   support\n",
      "\n",
      "           0       0.50      0.50      0.50       165\n",
      "           1       0.71      0.72      0.72       290\n",
      "\n",
      "   micro avg       0.64      0.64      0.64       455\n",
      "   macro avg       0.61      0.61      0.61       455\n",
      "weighted avg       0.64      0.64      0.64       455\n",
      "\n"
     ]
    }
   ],
   "source": [
    "print(classification_report(y_test_new,pred_rf_f))"
   ]
  },
  {
   "cell_type": "code",
   "execution_count": 275,
   "metadata": {},
   "outputs": [
    {
     "data": {
      "image/png": "[encoded data removed]",
      "text/plain": [
       "<Figure size 432x288 with 1 Axes>"
      ]
     },
     "metadata": {
      "needs_background": "light"
     },
     "output_type": "display_data"
    },
    {
     "data": {
      "text/plain": [
       "(array([0.       , 0.5030303, 1.       ]),\n",
       " array([0.        , 0.71724138, 1.        ]),\n",
       " array([2, 1, 0]))"
      ]
     },
     "execution_count": 275,
     "metadata": {},
     "output_type": "execute_result"
    }
   ],
   "source": [
    "draw_roc(y_test_new, pred_rf_f)"
   ]
  },
  {
   "cell_type": "markdown",
   "metadata": {},
   "source": [
    "# Xgboosting"
   ]
  },
  {
   "cell_type": "code",
   "execution_count": 276,
   "metadata": {},
   "outputs": [],
   "source": [
    "model_xgb_new = xg.fit(x_train_new,y_train_new)\n",
    "pred_xgb_new  = xg.predict(x_test_new)"
   ]
  },
  {
   "cell_type": "code",
   "execution_count": 278,
   "metadata": {},
   "outputs": [
    {
     "name": "stdout",
     "output_type": "stream",
     "text": [
      "77.69110764430579\n"
     ]
    }
   ],
   "source": [
    "print(f1_score(y_test_new,pred_xgb_new)*100)"
   ]
  },
  {
   "cell_type": "code",
   "execution_count": 280,
   "metadata": {},
   "outputs": [
    {
     "data": {
      "text/plain": [
       "array([[ 63, 102],\n",
       "       [ 41, 249]], dtype=int64)"
      ]
     },
     "execution_count": 280,
     "metadata": {},
     "output_type": "execute_result"
    }
   ],
   "source": [
    "co_xg_new = metrics.confusion_matrix(y_test_new,pred_xgb_new)\n",
    "co_xg_new"
   ]
  },
  {
   "cell_type": "code",
   "execution_count": 281,
   "metadata": {},
   "outputs": [],
   "source": [
    "TP_xg = co_xg_new[0,0] # true negative\n",
    "TN_xg = co_xg_new[1,1] # true postive\n",
    "FP_xg = co_xg_new[0,1] # false positives\n",
    "FN_xg = co_xg_new[1,0] # false negatives"
   ]
  },
  {
   "cell_type": "code",
   "execution_count": 283,
   "metadata": {},
   "outputs": [
    {
     "data": {
      "text/plain": [
       "0.6057692307692307"
      ]
     },
     "execution_count": 283,
     "metadata": {},
     "output_type": "execute_result"
    }
   ],
   "source": [
    "# Let's see the sensitivity of our tree model\n",
    "TP_xg / float(TP_xg+FN_xg)"
   ]
  },
  {
   "cell_type": "code",
   "execution_count": 284,
   "metadata": {},
   "outputs": [
    {
     "name": "stdout",
     "output_type": "stream",
     "text": [
      "0.2905982905982906\n"
     ]
    }
   ],
   "source": [
    "# Calculate false postive rate \n",
    "print(FP_xg/ float(TN_xg+FP_xg))"
   ]
  },
  {
   "cell_type": "markdown",
   "metadata": {},
   "source": [
    "# summary of base models (for people whom contacted recently)"
   ]
  },
  {
   "cell_type": "markdown",
   "metadata": {},
   "source": [
    "Logistic classifier\n",
    "                  \n",
    "                  f1 score - 0.7751937984496124\n",
    "Decision tree\n",
    "                  \n",
    "                  f1 score - 0.6818181818181818\n",
    "Random forest\n",
    "                  \n",
    "                  f1 score - 0.7\n",
    "XGBOOSTING\n",
    "\n",
    "                  f1 score - 0.7769110764430579"
   ]
  },
  {
   "cell_type": "code",
   "execution_count": null,
   "metadata": {},
   "outputs": [],
   "source": []
  }
 ],
 "metadata": {
  "kernelspec": {
   "display_name": "Python 3",
   "language": "python",
   "name": "python3"
  },
  "language_info": {
   "codemirror_mode": {
    "name": "ipython",
    "version": 3
   },
   "file_extension": ".py",
   "mimetype": "text/x-python",
   "name": "python",
   "nbconvert_exporter": "python",
   "pygments_lexer": "ipython3",
   "version": "3.7.0"
  }
 },
 "nbformat": 4,
 "nbformat_minor": 2
}
